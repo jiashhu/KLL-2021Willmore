{
 "cells": [
  {
   "cell_type": "code",
   "execution_count": 1,
   "id": "9a07cd51",
   "metadata": {},
   "outputs": [],
   "source": [
    "from ngsolve import *"
   ]
  },
  {
   "cell_type": "code",
   "execution_count": 2,
   "id": "72aa830f",
   "metadata": {},
   "outputs": [],
   "source": [
    "# from netgen.csg import Pnt,SplineCurve2d,CSGeometry,Revolution,Sphere\n",
    "import numpy as np\n",
    "import netgen.meshing as ngm\n",
    "from netgen.csg import *\n",
    "from netgen.meshing import MeshingStep\n",
    "from ngsolve.comp import IntegrationRuleSpaceSurface"
   ]
  },
  {
   "cell_type": "code",
   "execution_count": 3,
   "id": "ac3782b8",
   "metadata": {},
   "outputs": [],
   "source": [
    "import sys\n",
    "sys.path.append(\"./FEMGeoPackage\")"
   ]
  },
  {
   "cell_type": "code",
   "execution_count": 4,
   "id": "bed69e14",
   "metadata": {},
   "outputs": [],
   "source": [
    "from geometry_obj import *"
   ]
  },
  {
   "cell_type": "code",
   "execution_count": 5,
   "id": "101d3833",
   "metadata": {},
   "outputs": [],
   "source": [
    "from ngsolve.webgui import Draw"
   ]
  },
  {
   "cell_type": "code",
   "execution_count": 6,
   "id": "857a3a9e",
   "metadata": {},
   "outputs": [],
   "source": [
    "from netgen.occ import SplineApproximation, Pnt, Axis, Face, Wire, Segment, Revolve, OCCGeometry, Z, X, Y\n",
    "#%% Construction of Initial Curved Mesh\n",
    "dim = 3\n",
    "order = 2\n",
    "msize = 0.15\n",
    "dt = Parameter(0)"
   ]
  },
  {
   "cell_type": "markdown",
   "id": "c055813b",
   "metadata": {},
   "source": [
    "Clifford torus\n",
    "$$\n",
    "(1-\\sqrt{x^2+y^2})^2 + z^2 = 1/2\n",
    "$$\n"
   ]
  },
  {
   "cell_type": "code",
   "execution_count": 9,
   "id": "59022689",
   "metadata": {},
   "outputs": [],
   "source": [
    "def Pos_Transformer(Pos_GF,dim=None):\n",
    "    if dim is None:\n",
    "        dim = Pos_GF.dim\n",
    "    else:\n",
    "        assert(Pos_GF.dim == dim)\n",
    "    N = int(len(Pos_GF.vec)/dim)\n",
    "    coords = Pos_GF.vec.Reshape(N).NumPy().copy()\n",
    "    return coords.T"
   ]
  },
  {
   "cell_type": "code",
   "execution_count": 10,
   "id": "0b4d73f7",
   "metadata": {
    "scrolled": false
   },
   "outputs": [],
   "source": [
    "def CurveEllipsoid(phi): \n",
    "    z = 2.5*np.sin(phi)\n",
    "    res = Pnt(2*np.cos(phi), 0, z)\n",
    "    return res\n",
    "def CurveRBC(phi): \n",
    "    z = (1-0.7*(np.cos(phi)**2-1)**2)*np.sin(phi)\n",
    "    res = Pnt(2*np.cos(phi), 0, z)\n",
    "    return res\n",
    "def CliffordTorus(phi): \n",
    "    a = np.sqrt(1/2)\n",
    "    z = a*np.sin(phi)\n",
    "    res = Pnt(1-a*np.cos(phi), 0, z)\n",
    "    return res\n",
    "\n",
    "mesh = GetRotMesh(CliffordTorus,msize,T_min=0,T_max=2*np.pi,axis=Z,is_close=True)"
   ]
  },
  {
   "cell_type": "code",
   "execution_count": 11,
   "id": "4fb6380b",
   "metadata": {
    "scrolled": true
   },
   "outputs": [
    {
     "data": {
      "text/plain": [
       "<ngsolve.comp.Mesh at 0x7fff30065170>"
      ]
     },
     "execution_count": 11,
     "metadata": {},
     "output_type": "execute_result"
    }
   ],
   "source": [
    "mesh.Curve(2)"
   ]
  },
  {
   "cell_type": "code",
   "execution_count": 12,
   "id": "5cc2ca7d",
   "metadata": {},
   "outputs": [
    {
     "data": {
      "application/vnd.jupyter.widget-view+json": {
       "model_id": "0d82b14694c3460a97a1aa07e22feff2",
       "version_major": 2,
       "version_minor": 0
      },
      "text/plain": [
       "WebGuiWidget(layout=Layout(height='50vh', width='100%'), value={'gui_settings': {}, 'ngsolve_version': '6.2.23…"
      ]
     },
     "metadata": {},
     "output_type": "display_data"
    },
    {
     "data": {
      "text/plain": [
       "BaseWebGuiScene"
      ]
     },
     "execution_count": 12,
     "metadata": {},
     "output_type": "execute_result"
    }
   ],
   "source": [
    "Draw(x,mesh,'x')"
   ]
  },
  {
   "cell_type": "markdown",
   "id": "e22a209e",
   "metadata": {},
   "source": [
    "## 有限元空间"
   ]
  },
  {
   "cell_type": "code",
   "execution_count": 13,
   "id": "988f8aad",
   "metadata": {},
   "outputs": [],
   "source": [
    "fes = H1(mesh,order=order)\n",
    "fesV = VectorH1(mesh,order=order)\n",
    "\n",
    "Disp = GridFunction(fesV)"
   ]
  },
  {
   "cell_type": "code",
   "execution_count": 14,
   "id": "45b304ec",
   "metadata": {},
   "outputs": [],
   "source": [
    "vGf = GridFunction(fesV)"
   ]
  },
  {
   "cell_type": "markdown",
   "id": "d931a8bd",
   "metadata": {},
   "source": [
    "## Time stepping parameter"
   ]
  },
  {
   "cell_type": "code",
   "execution_count": 15,
   "id": "e196aba1",
   "metadata": {},
   "outputs": [],
   "source": [
    "# Mixed space: (H,    V,    z,     nu)\n",
    "fesMix =       fes * fes * fesV * fesV\n",
    "# Grid functions\n",
    "gfu     = GridFunction(fesMix)\n",
    "gfuold  = GridFunction(fesMix)\n",
    "# Previous time-step components\n",
    "Hold, Vold, zold, nuold = gfuold.components"
   ]
  },
  {
   "cell_type": "markdown",
   "id": "a42859ad",
   "metadata": {},
   "source": [
    "$$\n",
    "Q = -\\frac12 H^3 + |A|^2 H\n",
    "$$\n",
    "\n",
    "\\begin{align*}\n",
    "\\int_{\\Gamma[X]} \\partial^{\\bullet} H \\varphi^H &-\\int_{\\Gamma[X]} \\nabla_{\\Gamma[X]} V \\cdot \\nabla_{\\Gamma[X]} \\varphi^H=-\\int_{\\Gamma[X]}|A|^2 V \\varphi^H\\\\\n",
    "\\int_{\\Gamma[X]} V \\varphi^V & +\\int_{\\Gamma[X]} \\nabla_{\\Gamma[X]} H \\cdot \\nabla_{\\Gamma[X]} \\varphi^V=\\int_{\\Gamma[X]} Q \\varphi^V \\\\\n",
    "\\int_{\\Gamma[X]} \\partial^{\\bullet} \\nu \\cdot \\varphi^\\nu & -\\int_{\\Gamma[X]} \\nabla_{\\Gamma[X]} z \\cdot \\nabla_{\\Gamma[X]} \\varphi^\\nu=\\int_{\\Gamma[X]}\\left(H A-A^2\\right) z \\cdot \\varphi^\\nu \\\\\n",
    "& +\\int_{\\Gamma[X]}\\left(\\left|\\nabla_{\\Gamma[X]} H\\right|^2 \\nu+A^2 \\nabla_{\\Gamma[X]} H\\right) \\cdot \\varphi^\\nu \\\\\n",
    "& +2 \\int_{\\Gamma[X]}\\left(A \\nabla_{\\Gamma[X]} H\\right) \\cdot\\left(\\nabla_{\\Gamma[X]} \\varphi^\\nu \\nu\\right) \\\\\n",
    "& +\\int_{\\Gamma[X]} Q \\nabla_{\\Gamma[X]} \\cdot \\varphi^\\nu-\\int_{\\Gamma[X]} Q H \\nu \\cdot \\varphi^\\nu \\\\\n",
    "\\int_{\\Gamma[X]} z \\cdot \\varphi^z & +\\int_{\\Gamma[X]} \\nabla_{\\Gamma[X]}\\nu \\cdot \\nabla_{\\Gamma[X]} \\varphi^z=\\int_{\\Gamma[X]}|A|^2 \\nu \\cdot \\varphi^z\n",
    "\\end{align*}"
   ]
  },
  {
   "cell_type": "code",
   "execution_count": 16,
   "id": "9a0c4b9a",
   "metadata": {},
   "outputs": [],
   "source": [
    "SD_opt = False\n",
    "H , V , z, nu = fesMix.TrialFunction()\n",
    "Ht, Vt, zt, nut = fesMix.TestFunction()\n",
    "\n",
    "## Weingarten Map A 通过上一层的法向量（有限元函数）来计算\n",
    "A = grad(nuold).Trace()\n",
    "A = 1/2*(A.trans+A)\n",
    "if SD_opt:\n",
    "    Q = 0\n",
    "else:\n",
    "    Q = -1/2*Hold**3+InnerProduct(A,A)*Hold\n",
    "\n",
    "# 归一化对于长时间演化会有帮助。如果没有归一化，可能会出现持续膨胀的情况\n",
    "nuold_uni = nuold/Norm(nuold)\n",
    "Lhs = BilinearForm(fesMix,symmetric=False)\n",
    "Rhs = LinearForm(fesMix)\n",
    "## ds may blow up\n",
    "# H的演化方程离散\n",
    "Lhs += (1/dt*H*Ht - InnerProduct(grad(V).Trace(),grad(Ht).Trace()))*ds \n",
    "Lhs += InnerProduct(A,A)*V*Ht*ds\n",
    "Rhs += 1/dt*Hold*Ht*ds \n",
    "# V的弱形式\n",
    "Lhs += (V*Vt + InnerProduct(grad(H).Trace(),grad(Vt).Trace()))*ds\n",
    "Rhs += Q*Vt*ds\n",
    "# n的演化方程离散\n",
    "Lhs += 1/dt*InnerProduct(nu,nut)*ds - InnerProduct(grad(z).Trace(),grad(nut).Trace())*ds\n",
    "Rhs += 1/dt*InnerProduct(nuold_uni,nut)*ds\n",
    "Lhs += (- Hold*InnerProduct(A*z,nut) + InnerProduct(A*(A*z),nut))*ds\n",
    "Rhs += (InnerProduct(grad(Hold).Trace(),grad(Hold).Trace())*InnerProduct(nuold_uni,nut)\\\n",
    "    + InnerProduct(A*(A*grad(Hold).Trace()),nut)\\\n",
    "    + 2*InnerProduct(grad(nut).Trace()*(A*grad(Hold).Trace()), nuold_uni))*ds\n",
    "Rhs += Q*Trace(grad(nut).Trace())*ds - Q*Hold*InnerProduct(nuold_uni,nut)*ds\n",
    "# z的弱形式\n",
    "Lhs += (InnerProduct(z,zt) + InnerProduct(grad(nu).Trace(),grad(zt).Trace()))*ds\n",
    "Rhs += (InnerProduct(A,A)*InnerProduct(nuold_uni,zt))*ds\n",
    "lhs = Lhs\n",
    "rhs = Rhs"
   ]
  },
  {
   "cell_type": "markdown",
   "id": "01338745",
   "metadata": {},
   "source": [
    "## 显示网格移动的设定"
   ]
  },
  {
   "cell_type": "code",
   "execution_count": 17,
   "id": "3c881825",
   "metadata": {},
   "outputs": [],
   "source": [
    "SetVisualization(deformation=True)"
   ]
  },
  {
   "cell_type": "markdown",
   "id": "2f5c87f2",
   "metadata": {},
   "source": [
    "## 时间演化"
   ]
  },
  {
   "cell_type": "code",
   "execution_count": 18,
   "id": "b70608d7",
   "metadata": {},
   "outputs": [],
   "source": [
    "mesh.UnsetDeformation()\n",
    "Disp.Set(CF((0,0,0)),definedon=mesh.Boundaries(\".*\"))\n",
    "nuold.Set(-specialcf.normal(3),definedon=mesh.Boundaries(\".*\"))\n",
    "Hold.Set(Trace(-specialcf.Weingarten(3)),definedon=mesh.Boundaries(\".*\"))"
   ]
  },
  {
   "cell_type": "code",
   "execution_count": 19,
   "id": "7e34a8a4",
   "metadata": {
    "scrolled": false
   },
   "outputs": [
    {
     "data": {
      "application/vnd.jupyter.widget-view+json": {
       "model_id": "52cf9b7be7ae4fbeb49f26e4ca3391de",
       "version_major": 2,
       "version_minor": 0
      },
      "text/plain": [
       "WebGuiWidget(layout=Layout(height='50vh', width='100%'), value={'gui_settings': {}, 'ngsolve_version': '6.2.23…"
      ]
     },
     "metadata": {},
     "output_type": "display_data"
    },
    {
     "data": {
      "text/plain": [
       "BaseWebGuiScene"
      ]
     },
     "execution_count": 19,
     "metadata": {},
     "output_type": "execute_result"
    }
   ],
   "source": [
    "mesh.UnsetDeformation()\n",
    "Draw(Norm(Hold), mesh, 'Curvature')"
   ]
  },
  {
   "cell_type": "code",
   "execution_count": 20,
   "id": "ca59aab8",
   "metadata": {},
   "outputs": [],
   "source": [
    "t_old = 0"
   ]
  },
  {
   "cell_type": "code",
   "execution_count": 21,
   "id": "2be8f3e1",
   "metadata": {},
   "outputs": [],
   "source": [
    "tau0 = 0.005\n",
    "dt.Set(tau0)"
   ]
  },
  {
   "cell_type": "code",
   "execution_count": 22,
   "id": "0bf127d4",
   "metadata": {
    "scrolled": false
   },
   "outputs": [
    {
     "data": {
      "application/vnd.jupyter.widget-view+json": {
       "model_id": "4ad5381dc7ea4245bddbde3fd42974a0",
       "version_major": 2,
       "version_minor": 0
      },
      "text/plain": [
       "WebGuiWidget(layout=Layout(height='50vh', width='100%'), value={'gui_settings': {}, 'ngsolve_version': '6.2.23…"
      ]
     },
     "metadata": {},
     "output_type": "display_data"
    },
    {
     "ename": "KeyboardInterrupt",
     "evalue": "",
     "output_type": "error",
     "traceback": [
      "\u001b[0;31m---------------------------------------------------------------------------\u001b[0m",
      "\u001b[0;31mKeyboardInterrupt\u001b[0m                         Traceback (most recent call last)",
      "Cell \u001b[0;32mIn[22], line 7\u001b[0m\n\u001b[1;32m      5\u001b[0m lhs\u001b[38;5;241m.\u001b[39mAssemble()\n\u001b[1;32m      6\u001b[0m rhs\u001b[38;5;241m.\u001b[39mAssemble()\n\u001b[0;32m----> 7\u001b[0m gfu\u001b[38;5;241m.\u001b[39mvec\u001b[38;5;241m.\u001b[39mdata \u001b[38;5;241m=\u001b[39m \u001b[43mlhs\u001b[49m\u001b[38;5;241;43m.\u001b[39;49m\u001b[43mmat\u001b[49m\u001b[38;5;241;43m.\u001b[39;49m\u001b[43mInverse\u001b[49m\u001b[43m(\u001b[49m\u001b[43minverse\u001b[49m\u001b[38;5;241;43m=\u001b[39;49m\u001b[38;5;124;43m\"\u001b[39;49m\u001b[38;5;124;43mumfpack\u001b[39;49m\u001b[38;5;124;43m\"\u001b[39;49m\u001b[43m)\u001b[49m\u001b[38;5;241m*\u001b[39mrhs\u001b[38;5;241m.\u001b[39mvec\n\u001b[1;32m      8\u001b[0m vGf\u001b[38;5;241m.\u001b[39mInterpolate(gfu\u001b[38;5;241m.\u001b[39mcomponents[\u001b[38;5;241m1\u001b[39m]\u001b[38;5;241m*\u001b[39mgfu\u001b[38;5;241m.\u001b[39mcomponents[\u001b[38;5;241m-\u001b[39m\u001b[38;5;241m1\u001b[39m],definedon\u001b[38;5;241m=\u001b[39mmesh\u001b[38;5;241m.\u001b[39mBoundaries(\u001b[38;5;124m\"\u001b[39m\u001b[38;5;124m.*\u001b[39m\u001b[38;5;124m\"\u001b[39m))\n\u001b[1;32m     10\u001b[0m gfuold\u001b[38;5;241m.\u001b[39mvec\u001b[38;5;241m.\u001b[39mdata \u001b[38;5;241m=\u001b[39m BaseVector(gfu\u001b[38;5;241m.\u001b[39mvec\u001b[38;5;241m.\u001b[39mFV()\u001b[38;5;241m.\u001b[39mNumPy())\n",
      "\u001b[0;31mKeyboardInterrupt\u001b[0m: "
     ]
    }
   ],
   "source": [
    "sceneu = Draw(Norm(Hold), mesh, 'disp')\n",
    "Reset = True\n",
    "while t_old<5:\n",
    "    mesh.SetDeformation(Disp)\n",
    "    lhs.Assemble()\n",
    "    rhs.Assemble()\n",
    "    gfu.vec.data = lhs.mat.Inverse(inverse=\"umfpack\")*rhs.vec\n",
    "    vGf.Interpolate(gfu.components[1]*gfu.components[-1],definedon=mesh.Boundaries(\".*\"))\n",
    "        \n",
    "    gfuold.vec.data = BaseVector(gfu.vec.FV().NumPy())\n",
    "    Disp.vec.data = BaseVector(Disp.vec.FV().NumPy() + tau0*vGf.vec.FV().NumPy())\n",
    "    sceneu.Redraw()\n",
    "    t_old += tau0"
   ]
  },
  {
   "cell_type": "code",
   "execution_count": null,
   "id": "640e155e",
   "metadata": {},
   "outputs": [],
   "source": []
  }
 ],
 "metadata": {
  "kernelspec": {
   "display_name": "Python 3 (ipykernel)",
   "language": "python",
   "name": "python3"
  },
  "language_info": {
   "codemirror_mode": {
    "name": "ipython",
    "version": 3
   },
   "file_extension": ".py",
   "mimetype": "text/x-python",
   "name": "python",
   "nbconvert_exporter": "python",
   "pygments_lexer": "ipython3",
   "version": "3.10.6"
  }
 },
 "nbformat": 4,
 "nbformat_minor": 5
}
