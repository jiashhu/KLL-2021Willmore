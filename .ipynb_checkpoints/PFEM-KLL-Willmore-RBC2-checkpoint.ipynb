{
 "cells": [
  {
   "cell_type": "code",
   "execution_count": 1,
   "id": "9480e78b",
   "metadata": {},
   "outputs": [],
   "source": [
    "from ngsolve import *"
   ]
  },
  {
   "cell_type": "code",
   "execution_count": 3,
   "id": "455e08cd",
   "metadata": {},
   "outputs": [],
   "source": [
    "from geometry import GetRotMesh,RBCSpline,Param2dRot\n",
    "import numpy as np"
   ]
  },
  {
   "cell_type": "code",
   "execution_count": 4,
   "id": "e56994c9",
   "metadata": {},
   "outputs": [],
   "source": [
    "from esfem import WillmoreKLL"
   ]
  },
  {
   "cell_type": "code",
   "execution_count": 5,
   "id": "750c5523",
   "metadata": {},
   "outputs": [],
   "source": [
    "from ngsolve.webgui import Draw"
   ]
  },
  {
   "cell_type": "code",
   "execution_count": 13,
   "id": "542f6a05",
   "metadata": {},
   "outputs": [],
   "source": [
    "maxh = 0.2\n",
    "CurveOrder = 2\n",
    "ESFEMorder = 2\n",
    "h_opt = 'mean'\n",
    "a = 0.7\n",
    "NS = 9"
   ]
  },
  {
   "cell_type": "code",
   "execution_count": 14,
   "id": "33cdb7ef",
   "metadata": {},
   "outputs": [],
   "source": [
    "ngsglobals.msg_level = 0"
   ]
  },
  {
   "cell_type": "code",
   "execution_count": 15,
   "id": "a8696d47",
   "metadata": {},
   "outputs": [
    {
     "name": "stdout",
     "output_type": "stream",
     "text": [
      "sin (must not be 0) = 5.20003e-07sin (must not be 0) = 8.15861e-07sin (must not be 0) = 6.45398e-08sin (must not be 0) = 9.66362e-07sin (must not be 0) = 1.17254e-06sin (must not be 0) = 9.24643e-07sin (must not be 0) = 2.67282e-07tstart (must be vertically): (-1.91114e-07, 0.553525)\n",
      "tend (must be vertically): (1.91114e-07, -0.553525)\n",
      "Mesh with ne 0, nface 1678, nv 841\n",
      "fes order is 2, with ndof is 3358\n"
     ]
    }
   ],
   "source": [
    "# Create the 2d Dumbbell Geometric Object and generate mesh\n",
    "profile_curve = RBCSpline(a=a,b=1,c=2,N_Spline=NS,T_min=-np.pi/2,\n",
    "                T_max=np.pi/2,eps=1e-7,is_close=False)\n",
    "RBC_Rot_Obj = Param2dRot(profile_curve, axis_opt='x', c_tag=False)\n",
    "RBC_Rot_Obj.Generate_Mesh(maxh=maxh,order=CurveOrder)\n",
    "mesh = RBC_Rot_Obj.mesh\n",
    "DB_BGN_Obj = WillmoreKLL(mesh,T=1.5,dt=1e-5,order=ESFEMorder)"
   ]
  },
  {
   "cell_type": "code",
   "execution_count": 16,
   "id": "42f2cb2e",
   "metadata": {},
   "outputs": [],
   "source": [
    "DB_BGN_Obj.IniByFEM()"
   ]
  },
  {
   "cell_type": "code",
   "execution_count": 17,
   "id": "835fd9cf",
   "metadata": {},
   "outputs": [],
   "source": [
    "DB_BGN_Obj.WeakWillmore()"
   ]
  },
  {
   "cell_type": "markdown",
   "id": "6d579c1e",
   "metadata": {},
   "source": [
    "万分注意：在webgui中，Draw不需要设置Deformation=True选项"
   ]
  },
  {
   "cell_type": "code",
   "execution_count": 18,
   "id": "fb82f2a0",
   "metadata": {},
   "outputs": [
    {
     "data": {
      "application/vnd.jupyter.widget-view+json": {
       "model_id": "951be00280cf4982a8d37c7ceeb3372b",
       "version_major": 2,
       "version_minor": 0
      },
      "text/plain": [
       "WebGuiWidget(layout=Layout(height='50vh', width='100%'), value={'gui_settings': {}, 'ngsolve_version': '6.2.23…"
      ]
     },
     "metadata": {},
     "output_type": "display_data"
    }
   ],
   "source": [
    "sceneu = Draw(Norm(DB_BGN_Obj.Hold), mesh, 'disp')"
   ]
  },
  {
   "cell_type": "code",
   "execution_count": 19,
   "id": "cae7f5c3",
   "metadata": {
    "scrolled": false
   },
   "outputs": [
    {
     "data": {
      "application/vnd.jupyter.widget-view+json": {
       "model_id": "4ba2fc7ff27c49ba8c1bc1bf1ee7d8db",
       "version_major": 2,
       "version_minor": 0
      },
      "text/plain": [
       "WebGuiWidget(layout=Layout(height='50vh', width='100%'), value={'gui_settings': {}, 'ngsolve_version': '6.2.23…"
      ]
     },
     "metadata": {},
     "output_type": "display_data"
    },
    {
     "name": "stdout",
     "output_type": "stream",
     "text": [
      "2025-09-01 22:36:50 +0800 Asia/Shanghai :Using Get_Proper_dt, Now coef is 1, t is 0, min h is 0.15525969442614657, dt is 4.637e-02, scale is 1\n"
     ]
    },
    {
     "name": "stderr",
     "output_type": "stream",
     "text": [
      "Time stepping:  37%|█████████████████████████████▉                                                  | 40/107 [00:55<01:32,  1.38s/it]\n"
     ]
    },
    {
     "ename": "KeyboardInterrupt",
     "evalue": "",
     "output_type": "error",
     "traceback": [
      "\u001b[0;31m---------------------------------------------------------------------------\u001b[0m",
      "\u001b[0;31mKeyboardInterrupt\u001b[0m                         Traceback (most recent call last)",
      "Cell \u001b[0;32mIn[19], line 6\u001b[0m\n\u001b[1;32m      4\u001b[0m dt \u001b[38;5;241m=\u001b[39m DB_BGN_Obj\u001b[38;5;241m.\u001b[39mGet_Proper_dt(coef\u001b[38;5;241m=\u001b[39m\u001b[38;5;241m1\u001b[39m,h_opt\u001b[38;5;241m=\u001b[39mh_opt)\n\u001b[1;32m      5\u001b[0m DB_BGN_Obj\u001b[38;5;241m.\u001b[39mdt\u001b[38;5;241m.\u001b[39mSet(dt)\n\u001b[0;32m----> 6\u001b[0m \u001b[43mDB_BGN_Obj\u001b[49m\u001b[38;5;241;43m.\u001b[39;49m\u001b[43mSolving\u001b[49m\u001b[43m(\u001b[49m\u001b[43msceneu\u001b[49m\u001b[38;5;241;43m=\u001b[39;49m\u001b[43msceneu\u001b[49m\u001b[43m)\u001b[49m\n",
      "File \u001b[0;32m~/work/./ngs-esfem/esfem/willmore_mdr.py:294\u001b[0m, in \u001b[0;36mWillmoreKLL.Solving\u001b[0;34m(self, vtk_obj, sceneu)\u001b[0m\n\u001b[1;32m    292\u001b[0m \u001b[38;5;28mself\u001b[39m\u001b[38;5;241m.\u001b[39mlhs\u001b[38;5;241m.\u001b[39mAssemble()\n\u001b[1;32m    293\u001b[0m \u001b[38;5;28mself\u001b[39m\u001b[38;5;241m.\u001b[39mrhs\u001b[38;5;241m.\u001b[39mAssemble()\n\u001b[0;32m--> 294\u001b[0m \u001b[38;5;28mself\u001b[39m\u001b[38;5;241m.\u001b[39mgfu\u001b[38;5;241m.\u001b[39mvec\u001b[38;5;241m.\u001b[39mdata \u001b[38;5;241m=\u001b[39m \u001b[38;5;28;43mself\u001b[39;49m\u001b[38;5;241;43m.\u001b[39;49m\u001b[43mlhs\u001b[49m\u001b[38;5;241;43m.\u001b[39;49m\u001b[43mmat\u001b[49m\u001b[38;5;241;43m.\u001b[39;49m\u001b[43mInverse\u001b[49m\u001b[43m(\u001b[49m\u001b[43minverse\u001b[49m\u001b[38;5;241;43m=\u001b[39;49m\u001b[38;5;124;43m\"\u001b[39;49m\u001b[38;5;124;43mumfpack\u001b[39;49m\u001b[38;5;124;43m\"\u001b[39;49m\u001b[43m)\u001b[49m\u001b[38;5;241m*\u001b[39m\u001b[38;5;28mself\u001b[39m\u001b[38;5;241m.\u001b[39mrhs\u001b[38;5;241m.\u001b[39mvec\n\u001b[1;32m    296\u001b[0m \u001b[38;5;66;03m## Update the Mean curvature and Normal vector old (used in weak formulation)\u001b[39;00m\n\u001b[1;32m    297\u001b[0m \u001b[38;5;28mself\u001b[39m\u001b[38;5;241m.\u001b[39mgfuold\u001b[38;5;241m.\u001b[39mvec\u001b[38;5;241m.\u001b[39mdata \u001b[38;5;241m=\u001b[39m \u001b[38;5;28mself\u001b[39m\u001b[38;5;241m.\u001b[39mgfu\u001b[38;5;241m.\u001b[39mvec\n",
      "\u001b[0;31mKeyboardInterrupt\u001b[0m: "
     ]
    }
   ],
   "source": [
    "sceneu = Draw(Norm(DB_BGN_Obj.Hold), mesh, 'disp')\n",
    "t_old = 0\n",
    "DB_BGN_Obj.T = 5\n",
    "dt = DB_BGN_Obj.Get_Proper_dt(coef=1,h_opt=h_opt)\n",
    "DB_BGN_Obj.dt.Set(dt)\n",
    "DB_BGN_Obj.Solving(sceneu=sceneu)"
   ]
  },
  {
   "cell_type": "markdown",
   "id": "2b4e2ebc",
   "metadata": {},
   "source": [
    "如果需要修改终止时间，修改步长，也可以继续计算"
   ]
  }
 ],
 "metadata": {
  "kernelspec": {
   "display_name": "Python 3 (ipykernel)",
   "language": "python",
   "name": "python3"
  },
  "language_info": {
   "codemirror_mode": {
    "name": "ipython",
    "version": 3
   },
   "file_extension": ".py",
   "mimetype": "text/x-python",
   "name": "python",
   "nbconvert_exporter": "python",
   "pygments_lexer": "ipython3",
   "version": "3.10.6"
  }
 },
 "nbformat": 4,
 "nbformat_minor": 5
}
