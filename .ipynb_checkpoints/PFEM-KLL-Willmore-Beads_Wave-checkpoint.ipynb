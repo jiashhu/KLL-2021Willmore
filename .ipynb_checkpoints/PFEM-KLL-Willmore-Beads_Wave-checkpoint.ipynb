{
 "cells": [
  {
   "cell_type": "code",
   "execution_count": 15,
   "id": "b9be8c20",
   "metadata": {},
   "outputs": [],
   "source": [
    "from ngsolve import *"
   ]
  },
  {
   "cell_type": "code",
   "execution_count": 16,
   "id": "5019cd47",
   "metadata": {},
   "outputs": [],
   "source": [
    "# from netgen.csg import Pnt,SplineCurve2d,CSGeometry,Revolution,Sphere\n",
    "import numpy as np\n",
    "import netgen.meshing as ngm\n",
    "from netgen.csg import *\n",
    "from netgen.meshing import MeshingStep\n",
    "from ngsolve.comp import IntegrationRuleSpaceSurface"
   ]
  },
  {
   "cell_type": "code",
   "execution_count": 17,
   "id": "7da48cab",
   "metadata": {},
   "outputs": [],
   "source": [
    "from geometry import *"
   ]
  },
  {
   "cell_type": "code",
   "execution_count": 18,
   "id": "402c2a7b",
   "metadata": {},
   "outputs": [],
   "source": [
    "from ngsolve.webgui import Draw"
   ]
  },
  {
   "cell_type": "code",
   "execution_count": 19,
   "id": "47f14cc2",
   "metadata": {},
   "outputs": [],
   "source": [
    "from netgen.occ import SplineApproximation, Pnt, Axis, Face, Wire, Segment, Revolve, OCCGeometry, Z, X, Y\n",
    "#%% Construction of Initial Curved Mesh\n",
    "dim = 3\n",
    "order = 2\n",
    "msize = 0.15\n",
    "dt = Parameter(0)"
   ]
  },
  {
   "cell_type": "code",
   "execution_count": 20,
   "id": "3d2bf4e7",
   "metadata": {},
   "outputs": [],
   "source": [
    "from ngsolve import Mesh"
   ]
  },
  {
   "cell_type": "markdown",
   "id": "d4b832f2",
   "metadata": {},
   "source": [
    "### 对下面这行加载Mesh，似乎windows系统不支持，而mac支持"
   ]
  },
  {
   "cell_type": "code",
   "execution_count": 21,
   "id": "5c8395c6",
   "metadata": {
    "scrolled": false
   },
   "outputs": [],
   "source": [
    "type_mesh = \"beads\"\n",
    "mesh = Mesh(\"data/order_{}_mesh_{}.vol\".format(order,type_mesh))"
   ]
  },
  {
   "cell_type": "markdown",
   "id": "41012ae4",
   "metadata": {},
   "source": [
    "## 有限元空间"
   ]
  },
  {
   "cell_type": "code",
   "execution_count": 22,
   "id": "5efb66d6",
   "metadata": {},
   "outputs": [],
   "source": [
    "fes = H1(mesh,order=order)\n",
    "fes1 = H1(mesh,order=1)\n",
    "fesV = VectorH1(mesh,order=order)\n",
    "\n",
    "Disp = GridFunction(fesV)"
   ]
  },
  {
   "cell_type": "code",
   "execution_count": 23,
   "id": "2f931ca9",
   "metadata": {},
   "outputs": [],
   "source": [
    "data = np.load(\"data/order_{}_deformation_{}.npz\".format(order,type_mesh))\n",
    "Disp.vec.data = BaseVector(data[\"deform\"].flatten(\"F\"))"
   ]
  },
  {
   "cell_type": "code",
   "execution_count": 24,
   "id": "d5b77a69",
   "metadata": {},
   "outputs": [],
   "source": [
    "mesh.SetDeformation(Disp)"
   ]
  },
  {
   "cell_type": "code",
   "execution_count": 25,
   "id": "31ce78e6",
   "metadata": {
    "scrolled": true
   },
   "outputs": [
    {
     "data": {
      "application/vnd.jupyter.widget-view+json": {
       "model_id": "5741336398274b06bd7c42276ef6f5a8",
       "version_major": 2,
       "version_minor": 0
      },
      "text/plain": [
       "WebGuiWidget(layout=Layout(height='50vh', width='100%'), value={'gui_settings': {}, 'ngsolve_version': '6.2.23…"
      ]
     },
     "metadata": {},
     "output_type": "display_data"
    },
    {
     "data": {
      "text/plain": [
       "BaseWebGuiScene"
      ]
     },
     "execution_count": 25,
     "metadata": {},
     "output_type": "execute_result"
    }
   ],
   "source": [
    "Draw(x,mesh,\"x\")"
   ]
  },
  {
   "cell_type": "code",
   "execution_count": 26,
   "id": "bde5ddb7",
   "metadata": {},
   "outputs": [],
   "source": [
    "vGf = GridFunction(fesV)"
   ]
  },
  {
   "cell_type": "markdown",
   "id": "b03472f8",
   "metadata": {},
   "source": [
    "## Time stepping parameter"
   ]
  },
  {
   "cell_type": "code",
   "execution_count": 27,
   "id": "6f0e6b4d",
   "metadata": {},
   "outputs": [],
   "source": [
    "# Mixed space: (H,    V,    z,     nu)\n",
    "fesMix =       fes * fes * fesV * fesV\n",
    "# Grid functions\n",
    "gfu     = GridFunction(fesMix)\n",
    "gfuold  = GridFunction(fesMix)\n",
    "# Previous time-step components\n",
    "Hold, Vold, zold, nuold = gfuold.components"
   ]
  },
  {
   "cell_type": "markdown",
   "id": "a382c901",
   "metadata": {},
   "source": [
    "$$\n",
    "Q = -\\frac12 H^3 + |A|^2 H\n",
    "$$\n",
    "\n",
    "\\begin{align*}\n",
    "\\int_{\\Gamma[X]} \\partial^{\\bullet} H \\varphi^H &-\\int_{\\Gamma[X]} \\nabla_{\\Gamma[X]} V \\cdot \\nabla_{\\Gamma[X]} \\varphi^H=-\\int_{\\Gamma[X]}|A|^2 V \\varphi^H\\\\\n",
    "\\int_{\\Gamma[X]} V \\varphi^V & +\\int_{\\Gamma[X]} \\nabla_{\\Gamma[X]} H \\cdot \\nabla_{\\Gamma[X]} \\varphi^V=\\int_{\\Gamma[X]} Q \\varphi^V \\\\\n",
    "\\int_{\\Gamma[X]} \\partial^{\\bullet} \\nu \\cdot \\varphi^\\nu & -\\int_{\\Gamma[X]} \\nabla_{\\Gamma[X]} z \\cdot \\nabla_{\\Gamma[X]} \\varphi^\\nu=\\int_{\\Gamma[X]}\\left(H A-A^2\\right) z \\cdot \\varphi^\\nu \\\\\n",
    "& +\\int_{\\Gamma[X]}\\left(\\left|\\nabla_{\\Gamma[X]} H\\right|^2 \\nu+A^2 \\nabla_{\\Gamma[X]} H\\right) \\cdot \\varphi^\\nu \\\\\n",
    "& +2 \\int_{\\Gamma[X]}\\left(A \\nabla_{\\Gamma[X]} H\\right) \\cdot\\left(\\nabla_{\\Gamma[X]} \\varphi^\\nu \\nu\\right) \\\\\n",
    "& +\\int_{\\Gamma[X]} Q \\nabla_{\\Gamma[X]} \\cdot \\varphi^\\nu-\\int_{\\Gamma[X]} Q H \\nu \\cdot \\varphi^\\nu \\\\\n",
    "\\int_{\\Gamma[X]} z \\cdot \\varphi^z & +\\int_{\\Gamma[X]} \\nabla_{\\Gamma[X]}\\nu \\cdot \\nabla_{\\Gamma[X]} \\varphi^z=\\int_{\\Gamma[X]}|A|^2 \\nu \\cdot \\varphi^z\n",
    "\\end{align*}"
   ]
  },
  {
   "cell_type": "code",
   "execution_count": 28,
   "id": "8ef6209d",
   "metadata": {},
   "outputs": [],
   "source": [
    "SD_opt = False\n",
    "H , V , z, nu = fesMix.TrialFunction()\n",
    "Ht, Vt, zt, nut = fesMix.TestFunction()\n",
    "\n",
    "## Weingarten Map A 通过上一层的法向量（有限元函数）来计算\n",
    "A = grad(nuold).Trace()\n",
    "A = 1/2*(A.trans+A)\n",
    "if SD_opt:\n",
    "    Q = 0\n",
    "else:\n",
    "    Q = -1/2*Hold**3+InnerProduct(A,A)*Hold\n",
    "\n",
    "# 归一化对于长时间演化会有帮助。如果没有归一化，可能会出现持续膨胀的情况\n",
    "nuold_uni = nuold/Norm(nuold)\n",
    "Lhs = BilinearForm(fesMix,symmetric=False)\n",
    "Rhs = LinearForm(fesMix)\n",
    "## ds may blow up\n",
    "# H的演化方程离散\n",
    "Lhs += (1/dt*H*Ht - InnerProduct(grad(V).Trace(),grad(Ht).Trace()))*ds \n",
    "Lhs += InnerProduct(A,A)*V*Ht*ds\n",
    "Rhs += 1/dt*Hold*Ht*ds \n",
    "# V的弱形式\n",
    "Lhs += (V*Vt + InnerProduct(grad(H).Trace(),grad(Vt).Trace()))*ds\n",
    "Rhs += Q*Vt*ds\n",
    "# n的演化方程离散\n",
    "Lhs += 1/dt*InnerProduct(nu,nut)*ds - InnerProduct(grad(z).Trace(),grad(nut).Trace())*ds\n",
    "Rhs += 1/dt*InnerProduct(nuold_uni,nut)*ds\n",
    "Lhs += (- Hold*InnerProduct(A*z,nut) + InnerProduct(A*(A*z),nut))*ds\n",
    "Rhs += (InnerProduct(grad(Hold).Trace(),grad(Hold).Trace())*InnerProduct(nuold_uni,nut)\\\n",
    "    + InnerProduct(A*(A*grad(Hold).Trace()),nut)\\\n",
    "    + 2*InnerProduct(grad(nut).Trace()*(A*grad(Hold).Trace()), nuold_uni))*ds\n",
    "Rhs += Q*Trace(grad(nut).Trace())*ds - Q*Hold*InnerProduct(nuold_uni,nut)*ds\n",
    "# z的弱形式\n",
    "Lhs += (InnerProduct(z,zt) + InnerProduct(grad(nu).Trace(),grad(zt).Trace()))*ds\n",
    "Rhs += (InnerProduct(A,A)*InnerProduct(nuold_uni,zt))*ds\n",
    "lhs = Lhs\n",
    "rhs = Rhs"
   ]
  },
  {
   "cell_type": "markdown",
   "id": "8cc9f9fa",
   "metadata": {},
   "source": [
    "## 显示网格移动的设定"
   ]
  },
  {
   "cell_type": "code",
   "execution_count": 29,
   "id": "e31be068",
   "metadata": {},
   "outputs": [],
   "source": [
    "SetVisualization(deformation=True)"
   ]
  },
  {
   "cell_type": "markdown",
   "id": "60d40682",
   "metadata": {},
   "source": [
    "## 时间演化"
   ]
  },
  {
   "cell_type": "code",
   "execution_count": 30,
   "id": "679e333c",
   "metadata": {},
   "outputs": [],
   "source": [
    "data = np.load(\"data/order_{}_deformation_{}.npz\".format(order,type_mesh))\n",
    "Disp.vec.data = BaseVector(data[\"deform\"].flatten(\"F\"))"
   ]
  },
  {
   "cell_type": "code",
   "execution_count": 31,
   "id": "b4817795",
   "metadata": {},
   "outputs": [],
   "source": [
    "mesh.SetDeformation(Disp)\n",
    "nuold.Set(-specialcf.normal(3),definedon=mesh.Boundaries(\".*\"))\n",
    "Hold.Set(Trace(-specialcf.Weingarten(3)),definedon=mesh.Boundaries(\".*\"))"
   ]
  },
  {
   "cell_type": "code",
   "execution_count": 32,
   "id": "d6fa8fd1",
   "metadata": {
    "scrolled": false
   },
   "outputs": [
    {
     "data": {
      "application/vnd.jupyter.widget-view+json": {
       "model_id": "c2e311e8dd374921a6b709ea414e91fd",
       "version_major": 2,
       "version_minor": 0
      },
      "text/plain": [
       "WebGuiWidget(layout=Layout(height='50vh', width='100%'), value={'gui_settings': {}, 'ngsolve_version': '6.2.23…"
      ]
     },
     "metadata": {},
     "output_type": "display_data"
    },
    {
     "data": {
      "text/plain": [
       "BaseWebGuiScene"
      ]
     },
     "execution_count": 32,
     "metadata": {},
     "output_type": "execute_result"
    }
   ],
   "source": [
    "mesh.SetDeformation(Disp)\n",
    "Draw(Norm(Hold), mesh, 'Curvature')"
   ]
  },
  {
   "cell_type": "code",
   "execution_count": 33,
   "id": "a52d28b5",
   "metadata": {},
   "outputs": [],
   "source": [
    "t_old = 0"
   ]
  },
  {
   "cell_type": "code",
   "execution_count": 34,
   "id": "4f3f15a4",
   "metadata": {},
   "outputs": [],
   "source": [
    "tau0 = 0.00001\n",
    "dt.Set(tau0)"
   ]
  },
  {
   "cell_type": "code",
   "execution_count": 35,
   "id": "414d25d2",
   "metadata": {},
   "outputs": [],
   "source": [
    "Hold_one_order = GridFunction(fes1)"
   ]
  },
  {
   "cell_type": "code",
   "execution_count": 23,
   "id": "7a133407",
   "metadata": {
    "scrolled": false
   },
   "outputs": [
    {
     "data": {
      "application/vnd.jupyter.widget-view+json": {
       "model_id": "ced8e157ef1146bd85fb85fb5c629629",
       "version_major": 2,
       "version_minor": 0
      },
      "text/plain": [
       "WebGuiWidget(layout=Layout(height='50vh', width='100%'), value={'gui_settings': {}, 'ngsolve_version': '6.2.23…"
      ]
     },
     "metadata": {},
     "output_type": "display_data"
    },
    {
     "name": "stdout",
     "output_type": "stream",
     "text": [
      "1e-05\n",
      "1e-05\n",
      "1e-05\n",
      "1e-05\n",
      "1e-05\n",
      "0.0001\n",
      "0.0001\n",
      "0.0001\n",
      "0.0001\n",
      "0.0001\n",
      "0.0001\n",
      "0.0001\n",
      "0.0001\n",
      "0.0001\n",
      "0.0001\n",
      "0.0001\n",
      "0.0001\n",
      "0.0001\n",
      "0.0001\n"
     ]
    },
    {
     "ename": "KeyboardInterrupt",
     "evalue": "",
     "output_type": "error",
     "traceback": [
      "\u001b[0;31m---------------------------------------------------------------------------\u001b[0m",
      "\u001b[0;31mKeyboardInterrupt\u001b[0m                         Traceback (most recent call last)",
      "Cell \u001b[0;32mIn[23], line 14\u001b[0m\n\u001b[1;32m     12\u001b[0m dt\u001b[38;5;241m.\u001b[39mSet(tau00)\n\u001b[1;32m     13\u001b[0m mesh\u001b[38;5;241m.\u001b[39mSetDeformation(Disp)\n\u001b[0;32m---> 14\u001b[0m \u001b[43mlhs\u001b[49m\u001b[38;5;241;43m.\u001b[39;49m\u001b[43mAssemble\u001b[49m\u001b[43m(\u001b[49m\u001b[43m)\u001b[49m\n\u001b[1;32m     15\u001b[0m rhs\u001b[38;5;241m.\u001b[39mAssemble()\n\u001b[1;32m     16\u001b[0m gfu\u001b[38;5;241m.\u001b[39mvec\u001b[38;5;241m.\u001b[39mdata \u001b[38;5;241m=\u001b[39m lhs\u001b[38;5;241m.\u001b[39mmat\u001b[38;5;241m.\u001b[39mInverse(inverse\u001b[38;5;241m=\u001b[39m\u001b[38;5;124m\"\u001b[39m\u001b[38;5;124mumfpack\u001b[39m\u001b[38;5;124m\"\u001b[39m)\u001b[38;5;241m*\u001b[39mrhs\u001b[38;5;241m.\u001b[39mvec\n",
      "\u001b[0;31mKeyboardInterrupt\u001b[0m: "
     ]
    }
   ],
   "source": [
    "sceneu = Draw(Norm(Hold), mesh, 'disp')\n",
    "while t_old<0.1:\n",
    "    Hold_one_order.Interpolate(Hold,definedon=mesh.Boundaries(\".*\"))\n",
    "    H_max = max(np.abs(Hold_one_order.vec.FV().NumPy()))\n",
    "    if H_max>6:\n",
    "        tau00 = tau0\n",
    "    elif H_max>3:\n",
    "        tau00 = 1e-4\n",
    "    else:\n",
    "        tau00 = 1e-3\n",
    "    print(tau00)\n",
    "    dt.Set(tau00)\n",
    "    mesh.SetDeformation(Disp)\n",
    "    lhs.Assemble()\n",
    "    rhs.Assemble()\n",
    "    gfu.vec.data = lhs.mat.Inverse(inverse=\"umfpack\")*rhs.vec\n",
    "    vGf.Interpolate(gfu.components[1]*gfu.components[-1],definedon=mesh.Boundaries(\".*\"))\n",
    "        \n",
    "    gfuold.vec.data = BaseVector(gfu.vec.FV().NumPy())\n",
    "    Disp.vec.data = BaseVector(Disp.vec.FV().NumPy() + tau00*vGf.vec.FV().NumPy())\n",
    "    sceneu.Redraw()\n",
    "    t_old += tau00"
   ]
  },
  {
   "cell_type": "code",
   "execution_count": null,
   "id": "075bbc89",
   "metadata": {},
   "outputs": [],
   "source": []
  }
 ],
 "metadata": {
  "kernelspec": {
   "display_name": "Python 3 (ipykernel)",
   "language": "python",
   "name": "python3"
  },
  "language_info": {
   "codemirror_mode": {
    "name": "ipython",
    "version": 3
   },
   "file_extension": ".py",
   "mimetype": "text/x-python",
   "name": "python",
   "nbconvert_exporter": "python",
   "pygments_lexer": "ipython3",
   "version": "3.10.6"
  }
 },
 "nbformat": 4,
 "nbformat_minor": 5
}
