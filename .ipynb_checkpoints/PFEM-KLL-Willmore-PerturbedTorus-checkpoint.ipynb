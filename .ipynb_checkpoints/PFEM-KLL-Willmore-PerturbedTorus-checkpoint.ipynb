{
 "cells": [
  {
   "cell_type": "code",
   "execution_count": 1,
   "id": "80b2b027",
   "metadata": {},
   "outputs": [],
   "source": [
    "from ngsolve import *"
   ]
  },
  {
   "cell_type": "code",
   "execution_count": 2,
   "id": "e8762eb6",
   "metadata": {},
   "outputs": [],
   "source": [
    "# from netgen.csg import Pnt,SplineCurve2d,CSGeometry,Revolution,Sphere\n",
    "import numpy as np\n",
    "import netgen.meshing as ngm\n",
    "from netgen.csg import *\n",
    "from netgen.meshing import MeshingStep\n",
    "from ngsolve.comp import IntegrationRuleSpaceSurface"
   ]
  },
  {
   "cell_type": "code",
   "execution_count": 3,
   "id": "2b7f9231",
   "metadata": {},
   "outputs": [],
   "source": [
    "from geometry import *"
   ]
  },
  {
   "cell_type": "code",
   "execution_count": 4,
   "id": "c352e06a",
   "metadata": {},
   "outputs": [],
   "source": [
    "from ngsolve.webgui import Draw"
   ]
  },
  {
   "cell_type": "code",
   "execution_count": 5,
   "id": "e6700610",
   "metadata": {},
   "outputs": [],
   "source": [
    "from netgen.occ import SplineApproximation, Pnt, Axis, Face, Wire, Segment, Revolve, OCCGeometry, Z, X, Y\n",
    "#%% Construction of Initial Curved Mesh\n",
    "dim = 3\n",
    "order = 2\n",
    "msize = 0.15\n",
    "dt = Parameter(0)"
   ]
  },
  {
   "cell_type": "markdown",
   "id": "0fa28430",
   "metadata": {},
   "source": [
    "Perturbed torus\n",
    "\\begin{equation*}\n",
    "    \\begin{pmatrix}\n",
    "(1+0.65\\cos\\varphi)\\cos\\theta\\\\ (1+0.65\\cos\\varphi)\\sin\\theta\\\\\n",
    "0.65\\sin \\varphi + 0.3 \\sin(5 \\theta)\n",
    "    \\end{pmatrix}\n",
    "    =     \\begin{pmatrix}\n",
    "(1+0.65\\cos\\varphi)\\cos\\theta\\\\ (1+0.65\\cos\\varphi)\\sin\\theta\\\\\n",
    "0.65\\sin \\varphi \n",
    "    \\end{pmatrix}\n",
    "    + \n",
    "        \\begin{pmatrix}\n",
    "0\\\\0\\\\\n",
    "0.3 \\sin(5 \\arctan(x,y))\n",
    "    \\end{pmatrix}\n",
    "\\end{equation*}"
   ]
  },
  {
   "cell_type": "code",
   "execution_count": 6,
   "id": "cc211c63",
   "metadata": {},
   "outputs": [],
   "source": [
    "from ngsolve import Mesh"
   ]
  },
  {
   "cell_type": "code",
   "execution_count": 7,
   "id": "b7ab8df5",
   "metadata": {
    "scrolled": false
   },
   "outputs": [],
   "source": [
    "mesh = Mesh(\"data/order_{}_mesh.vol\".format(order))"
   ]
  },
  {
   "cell_type": "markdown",
   "id": "dd45fc47",
   "metadata": {},
   "source": [
    "## 有限元空间"
   ]
  },
  {
   "cell_type": "code",
   "execution_count": 8,
   "id": "8e735e6f",
   "metadata": {},
   "outputs": [],
   "source": [
    "fes = H1(mesh,order=order)\n",
    "fes1 = H1(mesh,order=1)\n",
    "fesV = VectorH1(mesh,order=order)\n",
    "\n",
    "Disp = GridFunction(fesV)"
   ]
  },
  {
   "cell_type": "code",
   "execution_count": 9,
   "id": "41632e83",
   "metadata": {},
   "outputs": [],
   "source": [
    "data = np.load(\"data/order_{}_deformation.npz\".format(order))\n",
    "Disp.vec.data = BaseVector(data[\"deform\"].flatten(\"F\"))"
   ]
  },
  {
   "cell_type": "code",
   "execution_count": 10,
   "id": "ab98c588",
   "metadata": {},
   "outputs": [],
   "source": [
    "mesh.SetDeformation(Disp)"
   ]
  },
  {
   "cell_type": "code",
   "execution_count": 11,
   "id": "8a46f551",
   "metadata": {
    "scrolled": true
   },
   "outputs": [
    {
     "data": {
      "application/vnd.jupyter.widget-view+json": {
       "model_id": "624e8b5b368948dfae52285f3e7dbd8f",
       "version_major": 2,
       "version_minor": 0
      },
      "text/plain": [
       "WebGuiWidget(layout=Layout(height='50vh', width='100%'), value={'gui_settings': {}, 'ngsolve_version': '6.2.23…"
      ]
     },
     "metadata": {},
     "output_type": "display_data"
    },
    {
     "data": {
      "text/plain": [
       "BaseWebGuiScene"
      ]
     },
     "execution_count": 11,
     "metadata": {},
     "output_type": "execute_result"
    }
   ],
   "source": [
    "Draw(x,mesh,\"x\")"
   ]
  },
  {
   "cell_type": "code",
   "execution_count": 12,
   "id": "efed0405",
   "metadata": {},
   "outputs": [],
   "source": [
    "vGf = GridFunction(fesV)"
   ]
  },
  {
   "cell_type": "markdown",
   "id": "b709f4c5",
   "metadata": {},
   "source": [
    "## Time stepping parameter"
   ]
  },
  {
   "cell_type": "code",
   "execution_count": 13,
   "id": "b877be1f",
   "metadata": {},
   "outputs": [],
   "source": [
    "# Mixed space: (H,    V,    z,     nu)\n",
    "fesMix =       fes * fes * fesV * fesV\n",
    "# Grid functions\n",
    "gfu     = GridFunction(fesMix)\n",
    "gfuold  = GridFunction(fesMix)\n",
    "# Previous time-step components\n",
    "Hold, Vold, zold, nuold = gfuold.components"
   ]
  },
  {
   "cell_type": "markdown",
   "id": "2b4c42d0",
   "metadata": {},
   "source": [
    "$$\n",
    "Q = -\\frac12 H^3 + |A|^2 H\n",
    "$$\n",
    "\n",
    "\\begin{align*}\n",
    "\\int_{\\Gamma[X]} \\partial^{\\bullet} H \\varphi^H &-\\int_{\\Gamma[X]} \\nabla_{\\Gamma[X]} V \\cdot \\nabla_{\\Gamma[X]} \\varphi^H=-\\int_{\\Gamma[X]}|A|^2 V \\varphi^H\\\\\n",
    "\\int_{\\Gamma[X]} V \\varphi^V & +\\int_{\\Gamma[X]} \\nabla_{\\Gamma[X]} H \\cdot \\nabla_{\\Gamma[X]} \\varphi^V=\\int_{\\Gamma[X]} Q \\varphi^V \\\\\n",
    "\\int_{\\Gamma[X]} \\partial^{\\bullet} \\nu \\cdot \\varphi^\\nu & -\\int_{\\Gamma[X]} \\nabla_{\\Gamma[X]} z \\cdot \\nabla_{\\Gamma[X]} \\varphi^\\nu=\\int_{\\Gamma[X]}\\left(H A-A^2\\right) z \\cdot \\varphi^\\nu \\\\\n",
    "& +\\int_{\\Gamma[X]}\\left(\\left|\\nabla_{\\Gamma[X]} H\\right|^2 \\nu+A^2 \\nabla_{\\Gamma[X]} H\\right) \\cdot \\varphi^\\nu \\\\\n",
    "& +2 \\int_{\\Gamma[X]}\\left(A \\nabla_{\\Gamma[X]} H\\right) \\cdot\\left(\\nabla_{\\Gamma[X]} \\varphi^\\nu \\nu\\right) \\\\\n",
    "& +\\int_{\\Gamma[X]} Q \\nabla_{\\Gamma[X]} \\cdot \\varphi^\\nu-\\int_{\\Gamma[X]} Q H \\nu \\cdot \\varphi^\\nu \\\\\n",
    "\\int_{\\Gamma[X]} z \\cdot \\varphi^z & +\\int_{\\Gamma[X]} \\nabla_{\\Gamma[X]}\\nu \\cdot \\nabla_{\\Gamma[X]} \\varphi^z=\\int_{\\Gamma[X]}|A|^2 \\nu \\cdot \\varphi^z\n",
    "\\end{align*}"
   ]
  },
  {
   "cell_type": "code",
   "execution_count": 14,
   "id": "7dbca56c",
   "metadata": {},
   "outputs": [],
   "source": [
    "SD_opt = False\n",
    "H , V , z, nu = fesMix.TrialFunction()\n",
    "Ht, Vt, zt, nut = fesMix.TestFunction()\n",
    "\n",
    "## Weingarten Map A 通过上一层的法向量（有限元函数）来计算\n",
    "A = grad(nuold).Trace()\n",
    "A = 1/2*(A.trans+A)\n",
    "if SD_opt:\n",
    "    Q = 0\n",
    "else:\n",
    "    Q = -1/2*Hold**3+InnerProduct(A,A)*Hold\n",
    "\n",
    "# 归一化对于长时间演化会有帮助。如果没有归一化，可能会出现持续膨胀的情况\n",
    "nuold_uni = nuold/Norm(nuold)\n",
    "Lhs = BilinearForm(fesMix,symmetric=False)\n",
    "Rhs = LinearForm(fesMix)\n",
    "## ds may blow up\n",
    "# H的演化方程离散\n",
    "Lhs += (1/dt*H*Ht - InnerProduct(grad(V).Trace(),grad(Ht).Trace()))*ds \n",
    "Lhs += InnerProduct(A,A)*V*Ht*ds\n",
    "Rhs += 1/dt*Hold*Ht*ds \n",
    "# V的弱形式\n",
    "Lhs += (V*Vt + InnerProduct(grad(H).Trace(),grad(Vt).Trace()))*ds\n",
    "Rhs += Q*Vt*ds\n",
    "# n的演化方程离散\n",
    "Lhs += 1/dt*InnerProduct(nu,nut)*ds - InnerProduct(grad(z).Trace(),grad(nut).Trace())*ds\n",
    "Rhs += 1/dt*InnerProduct(nuold_uni,nut)*ds\n",
    "Lhs += (- Hold*InnerProduct(A*z,nut) + InnerProduct(A*(A*z),nut))*ds\n",
    "Rhs += (InnerProduct(grad(Hold).Trace(),grad(Hold).Trace())*InnerProduct(nuold_uni,nut)\\\n",
    "    + InnerProduct(A*(A*grad(Hold).Trace()),nut)\\\n",
    "    + 2*InnerProduct(grad(nut).Trace()*(A*grad(Hold).Trace()), nuold_uni))*ds\n",
    "Rhs += Q*Trace(grad(nut).Trace())*ds - Q*Hold*InnerProduct(nuold_uni,nut)*ds\n",
    "# z的弱形式\n",
    "Lhs += (InnerProduct(z,zt) + InnerProduct(grad(nu).Trace(),grad(zt).Trace()))*ds\n",
    "Rhs += (InnerProduct(A,A)*InnerProduct(nuold_uni,zt))*ds\n",
    "lhs = Lhs\n",
    "rhs = Rhs"
   ]
  },
  {
   "cell_type": "markdown",
   "id": "c216f60f",
   "metadata": {},
   "source": [
    "## 显示网格移动的设定"
   ]
  },
  {
   "cell_type": "code",
   "execution_count": 15,
   "id": "17e95f26",
   "metadata": {},
   "outputs": [],
   "source": [
    "SetVisualization(deformation=True)"
   ]
  },
  {
   "cell_type": "markdown",
   "id": "90a05e0e",
   "metadata": {},
   "source": [
    "## 时间演化"
   ]
  },
  {
   "cell_type": "code",
   "execution_count": 16,
   "id": "20a631fc",
   "metadata": {},
   "outputs": [],
   "source": [
    "data = np.load(\"data/order_{}_deformation.npz\".format(order))\n",
    "Disp.vec.data = BaseVector(data[\"deform\"].flatten(\"F\"))"
   ]
  },
  {
   "cell_type": "code",
   "execution_count": 17,
   "id": "b9d708d8",
   "metadata": {},
   "outputs": [],
   "source": [
    "mesh.SetDeformation(Disp)\n",
    "nuold.Set(-specialcf.normal(3),definedon=mesh.Boundaries(\".*\"))\n",
    "Hold.Set(Trace(-specialcf.Weingarten(3)),definedon=mesh.Boundaries(\".*\"))"
   ]
  },
  {
   "cell_type": "code",
   "execution_count": 18,
   "id": "3562638f",
   "metadata": {
    "scrolled": false
   },
   "outputs": [
    {
     "data": {
      "application/vnd.jupyter.widget-view+json": {
       "model_id": "7d7a7dba3640497d9ece0218a309401b",
       "version_major": 2,
       "version_minor": 0
      },
      "text/plain": [
       "WebGuiWidget(layout=Layout(height='50vh', width='100%'), value={'gui_settings': {}, 'ngsolve_version': '6.2.23…"
      ]
     },
     "metadata": {},
     "output_type": "display_data"
    },
    {
     "data": {
      "text/plain": [
       "BaseWebGuiScene"
      ]
     },
     "execution_count": 18,
     "metadata": {},
     "output_type": "execute_result"
    }
   ],
   "source": [
    "mesh.SetDeformation(Disp)\n",
    "Draw(Norm(Hold), mesh, 'Curvature')"
   ]
  },
  {
   "cell_type": "code",
   "execution_count": 19,
   "id": "9e486a7a",
   "metadata": {},
   "outputs": [],
   "source": [
    "t_old = 0"
   ]
  },
  {
   "cell_type": "code",
   "execution_count": 20,
   "id": "5ca7a4d2",
   "metadata": {},
   "outputs": [],
   "source": [
    "tau0 = 0.00001\n",
    "dt.Set(tau0)"
   ]
  },
  {
   "cell_type": "code",
   "execution_count": 21,
   "id": "c8a70370",
   "metadata": {},
   "outputs": [],
   "source": [
    "Hold_one_order = GridFunction(fes1)"
   ]
  },
  {
   "cell_type": "code",
   "execution_count": 24,
   "id": "e8e981f1",
   "metadata": {
    "scrolled": true
   },
   "outputs": [
    {
     "data": {
      "application/vnd.jupyter.widget-view+json": {
       "model_id": "6997699a097641f9943b062dd326f743",
       "version_major": 2,
       "version_minor": 0
      },
      "text/plain": [
       "WebGuiWidget(layout=Layout(height='50vh', width='100%'), value={'gui_settings': {}, 'ngsolve_version': '6.2.23…"
      ]
     },
     "metadata": {},
     "output_type": "display_data"
    },
    {
     "name": "stdout",
     "output_type": "stream",
     "text": [
      "0.002\n",
      "0.002\n",
      "0.002\n",
      "0.002\n",
      "0.002\n",
      "0.002\n",
      "0.002\n",
      "0.002\n",
      "0.002\n",
      "0.002\n",
      "0.002\n",
      "0.002\n",
      "0.002\n",
      "0.002\n",
      "0.002\n",
      "0.002\n",
      "0.002\n",
      "0.002\n",
      "0.002\n",
      "0.002\n",
      "0.002\n",
      "0.002\n",
      "0.002\n",
      "0.002\n",
      "0.002\n",
      "0.002\n",
      "0.002\n",
      "0.002\n",
      "0.002\n",
      "0.002\n",
      "0.002\n",
      "0.002\n",
      "0.002\n",
      "0.002\n",
      "0.002\n",
      "0.002\n",
      "0.002\n",
      "0.002\n",
      "0.002\n",
      "0.002\n",
      "0.002\n",
      "0.002\n",
      "0.002\n",
      "0.002\n",
      "0.002\n",
      "0.002\n",
      "0.002\n",
      "0.002\n",
      "0.002\n",
      "0.002\n",
      "0.002\n",
      "0.002\n",
      "0.002\n",
      "0.002\n",
      "0.002\n",
      "0.002\n",
      "0.002\n",
      "0.002\n",
      "0.002\n",
      "0.002\n",
      "0.002\n",
      "0.002\n",
      "0.002\n",
      "0.002\n",
      "0.002\n",
      "0.002\n"
     ]
    },
    {
     "ename": "KeyboardInterrupt",
     "evalue": "",
     "output_type": "error",
     "traceback": [
      "\u001b[0;31m---------------------------------------------------------------------------\u001b[0m",
      "\u001b[0;31mKeyboardInterrupt\u001b[0m                         Traceback (most recent call last)",
      "Cell \u001b[0;32mIn[24], line 16\u001b[0m\n\u001b[1;32m     14\u001b[0m lhs\u001b[38;5;241m.\u001b[39mAssemble()\n\u001b[1;32m     15\u001b[0m rhs\u001b[38;5;241m.\u001b[39mAssemble()\n\u001b[0;32m---> 16\u001b[0m gfu\u001b[38;5;241m.\u001b[39mvec\u001b[38;5;241m.\u001b[39mdata \u001b[38;5;241m=\u001b[39m \u001b[43mlhs\u001b[49m\u001b[38;5;241;43m.\u001b[39;49m\u001b[43mmat\u001b[49m\u001b[38;5;241;43m.\u001b[39;49m\u001b[43mInverse\u001b[49m\u001b[43m(\u001b[49m\u001b[43minverse\u001b[49m\u001b[38;5;241;43m=\u001b[39;49m\u001b[38;5;124;43m\"\u001b[39;49m\u001b[38;5;124;43mumfpack\u001b[39;49m\u001b[38;5;124;43m\"\u001b[39;49m\u001b[43m)\u001b[49m\u001b[38;5;241m*\u001b[39mrhs\u001b[38;5;241m.\u001b[39mvec\n\u001b[1;32m     17\u001b[0m vGf\u001b[38;5;241m.\u001b[39mInterpolate(gfu\u001b[38;5;241m.\u001b[39mcomponents[\u001b[38;5;241m1\u001b[39m]\u001b[38;5;241m*\u001b[39mgfu\u001b[38;5;241m.\u001b[39mcomponents[\u001b[38;5;241m-\u001b[39m\u001b[38;5;241m1\u001b[39m],definedon\u001b[38;5;241m=\u001b[39mmesh\u001b[38;5;241m.\u001b[39mBoundaries(\u001b[38;5;124m\"\u001b[39m\u001b[38;5;124m.*\u001b[39m\u001b[38;5;124m\"\u001b[39m))\n\u001b[1;32m     19\u001b[0m gfuold\u001b[38;5;241m.\u001b[39mvec\u001b[38;5;241m.\u001b[39mdata \u001b[38;5;241m=\u001b[39m BaseVector(gfu\u001b[38;5;241m.\u001b[39mvec\u001b[38;5;241m.\u001b[39mFV()\u001b[38;5;241m.\u001b[39mNumPy())\n",
      "\u001b[0;31mKeyboardInterrupt\u001b[0m: "
     ]
    }
   ],
   "source": [
    "sceneu = Draw(Norm(Hold), mesh, 'disp')\n",
    "while t_old<1:\n",
    "    Hold_one_order.Interpolate(Hold,definedon=mesh.Boundaries(\".*\"))\n",
    "    H_max = max(np.abs(Hold_one_order.vec.FV().NumPy()))\n",
    "    if H_max>6:\n",
    "        tau00 = tau0\n",
    "    elif H_max>2:\n",
    "        tau00 = 1e-3\n",
    "    else:\n",
    "        tau00 = 4e-3\n",
    "    print(tau00)\n",
    "    dt.Set(tau00)\n",
    "    mesh.SetDeformation(Disp)\n",
    "    lhs.Assemble()\n",
    "    rhs.Assemble()\n",
    "    gfu.vec.data = lhs.mat.Inverse(inverse=\"umfpack\")*rhs.vec\n",
    "    vGf.Interpolate(gfu.components[1]*gfu.components[-1],definedon=mesh.Boundaries(\".*\"))\n",
    "        \n",
    "    gfuold.vec.data = BaseVector(gfu.vec.FV().NumPy())\n",
    "    Disp.vec.data = BaseVector(Disp.vec.FV().NumPy() + tau0*vGf.vec.FV().NumPy())\n",
    "    sceneu.Redraw()\n",
    "    t_old += tau0"
   ]
  },
  {
   "cell_type": "code",
   "execution_count": null,
   "id": "00bcc90e",
   "metadata": {},
   "outputs": [],
   "source": []
  }
 ],
 "metadata": {
  "kernelspec": {
   "display_name": "Python 3 (ipykernel)",
   "language": "python",
   "name": "python3"
  },
  "language_info": {
   "codemirror_mode": {
    "name": "ipython",
    "version": 3
   },
   "file_extension": ".py",
   "mimetype": "text/x-python",
   "name": "python",
   "nbconvert_exporter": "python",
   "pygments_lexer": "ipython3",
   "version": "3.10.6"
  }
 },
 "nbformat": 4,
 "nbformat_minor": 5
}
