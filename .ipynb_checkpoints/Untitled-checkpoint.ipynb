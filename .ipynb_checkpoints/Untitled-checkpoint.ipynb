{
 "cells": [
  {
   "cell_type": "code",
   "execution_count": 1,
   "id": "621d578a",
   "metadata": {},
   "outputs": [],
   "source": [
    "from ngsolve import *\n",
    "import ngsolve\n",
    "from netgen.geom2d import *\n",
    "from netgen.meshing import *\n",
    "from netgen.occ import *"
   ]
  },
  {
   "cell_type": "code",
   "execution_count": 2,
   "id": "020c565a",
   "metadata": {},
   "outputs": [],
   "source": [
    "import numpy as np"
   ]
  },
  {
   "cell_type": "code",
   "execution_count": 3,
   "id": "19ee7c33",
   "metadata": {},
   "outputs": [],
   "source": [
    "from geometry import Mesh_Info_Parse, DiscreteMesh\n",
    "from scipy.spatial import Delaunay"
   ]
  },
  {
   "cell_type": "code",
   "execution_count": 4,
   "id": "d58b590a",
   "metadata": {},
   "outputs": [],
   "source": [
    "import matplotlib.pyplot as plt"
   ]
  },
  {
   "cell_type": "code",
   "execution_count": 80,
   "id": "e4c3a398",
   "metadata": {},
   "outputs": [],
   "source": [
    "def LevelSetQuadfoil(theta):\n",
    "    \"\"\"\n",
    "    Compute a point on the zero level set of a specific quadfoil-like function in polar coordinates.\n",
    "\n",
    "    Parameters\n",
    "    ----------\n",
    "    theta : float\n",
    "        Polar angle (radians).\n",
    "    \n",
    "    Description\n",
    "    -----------\n",
    "    The level set function φ(r, θ) is implicitly defined as:\n",
    "        φ(r, θ) = k^8 * r^6 - k^4 * a^2 * r^4 * (1 - cos(4θ))/8 - 0.01*k^2\n",
    "    For a given θ, we solve φ(r, θ) = 0 for r > 0 and return the corresponding (x, y) point in Cartesian coordinates.\n",
    "    \"\"\"\n",
    "    k = 1.5\n",
    "    a = 3\n",
    "    aa = k**8\n",
    "    bb = -k**4*a**2*(1 - np.cos(4*theta))/8\n",
    "    cc = -0.01*k**2\n",
    "\n",
    "    # Solve cubic equation aa*r^6 + bb*r^4 + cc = 0 for r^2\n",
    "    res = np.roots([aa, bb, 0, cc])\n",
    "    tmp = [np.real(val) for val in res if np.isreal(val) and val > 0]\n",
    "    r = tmp[0]**0.5  # r = sqrt(root)\n",
    "\n",
    "    return Pnt(r*np.cos(theta), r*np.sin(theta), 0)"
   ]
  },
  {
   "cell_type": "code",
   "execution_count": 81,
   "id": "22baa66b",
   "metadata": {},
   "outputs": [],
   "source": [
    "pnts = [LevelSetQuadfoil(z) for z in np.linspace(0,2*np.pi,100)]\n",
    "\n",
    "spline = SplineApproximation(pnts, tol=1e-4)\n",
    "f = Face(Wire([spline]))\n",
    "\n",
    "geo = OCCGeometry(f)\n",
    "mp = MeshingParameters(maxh=0.08,curvaturesafety=3,grading=0.2)   # 控制最大单元大小\n",
    "mesh = Mesh(geo.GenerateMesh(mp))\n",
    "\n",
    "wp = WorkPlane().Circle(0,0,1)\n",
    "face0 = wp.Face()\n",
    "face0.edges[0].name = \"bnd\"\n",
    "f = Face(Wire(spline))\n",
    "f.edges[0].name = \"b_in\"\n",
    "geo = OCCGeometry(face0-f,dim=2)\n",
    "mesh = ngsolve.Mesh(geo.GenerateMesh(mp))"
   ]
  },
  {
   "cell_type": "code",
   "execution_count": 94,
   "id": "f91775b6",
   "metadata": {},
   "outputs": [
    {
     "data": {
      "application/vnd.jupyter.widget-view+json": {
       "model_id": "c61e0a43dafc4e86b894df9d8a59d1c4",
       "version_major": 2,
       "version_minor": 0
      },
      "text/plain": [
       "WebGuiWidget(layout=Layout(height='50vh', width='100%'), value={'gui_settings': {}, 'ngsolve_version': '6.2.23…"
      ]
     },
     "metadata": {},
     "output_type": "display_data"
    },
    {
     "data": {
      "text/plain": [
       "BaseWebGuiScene"
      ]
     },
     "execution_count": 94,
     "metadata": {},
     "output_type": "execute_result"
    }
   ],
   "source": [
    "Draw(mesh)"
   ]
  },
  {
   "cell_type": "code",
   "execution_count": null,
   "id": "c25ee2a2",
   "metadata": {},
   "outputs": [],
   "source": []
  },
  {
   "cell_type": "code",
   "execution_count": null,
   "id": "854c5775",
   "metadata": {},
   "outputs": [],
   "source": []
  },
  {
   "cell_type": "code",
   "execution_count": null,
   "id": "5a3d2bf9",
   "metadata": {},
   "outputs": [],
   "source": []
  },
  {
   "cell_type": "code",
   "execution_count": null,
   "id": "33eb9ce9",
   "metadata": {},
   "outputs": [],
   "source": [
    "def LSQuadInCirc(msize,r_circ,bn_in='in',bn_out='bnd',hAI=None,shape=1):\n",
    "    '''\n",
    "        Quad defined by Level set in a Circle, centered at origin with radius r_circ\n",
    "    '''\n",
    "    \n",
    "    def Curve(theta):\n",
    "        k = 1.5\n",
    "        a = 3\n",
    "        \n",
    "        aa = k**8\n",
    "        bb = -k**4*a**2*(1-np.cos(4*theta))/8\n",
    "        cc = -0.01*k**2\n",
    "        res = np.roots([aa,bb,0,cc])\n",
    "        tmp = [np.real(val) for val in res if np.isreal(val) and val>0]\n",
    "        r = tmp[0]**(1/2)\n",
    "\n",
    "        return Pnt(r*np.cos(theta), r*np.sin(theta), 0)\n",
    "    \n",
    "    def Curve2(theta):\n",
    "        k = 2\n",
    "        a = 4\n",
    "        aa = k**6\n",
    "        bb = -k**4*a**2*(1-np.cos(4*theta))/8\n",
    "        cc = -0.001*k**2\n",
    "        res = np.roots([aa,bb,0,0,0,cc])\n",
    "        tmp = [np.real(val) for val in res if np.isreal(val) and val>0]\n",
    "        r = tmp[0]\n",
    "        return Pnt(r*np.cos(theta), r*np.sin(theta), 0)\n",
    "    \n",
    "    if shape == 1:\n",
    "        pnts = [Curve(z) for z in np.linspace(0,2*np.pi,100)]\n",
    "    elif shape == 2:\n",
    "        pnts = [Curve2(z) for z in np.linspace(0,2*np.pi,200)]\n",
    "        \n",
    "    if shape == 1 or shape == 2:\n",
    "        myspline = SplineApproximation(pnts, tol=1e-4)\n",
    "        wp = WorkPlane().Circle(0,0,r_circ)\n",
    "        face0 = wp.Face()\n",
    "        face0.edges[0].name = bn_out\n",
    "        f = Face(Wire(myspline))\n",
    "        f.edges[0].name = bn_in\n",
    "        geo = OCCGeometry(face0-f,dim=2)\n",
    "        mesh = ngsolve.Mesh(geo.GenerateMesh(maxh=msize))\n",
    "    elif shape == 3:\n",
    "        wp = WorkPlane().Circle(0,0,r_circ)\n",
    "        face0 = wp.Face()\n",
    "        face0.edges[0].name = bn_out\n",
    "\n",
    "        r0 = 0.05\n",
    "        R=0.3\n",
    "        l=0.7\n",
    "        pnt1 = Pnt(0,r0+R+l+r0, 0)\n",
    "        pnt2 = Pnt(-r0-R-l-r0, 0, 0)\n",
    "        pnt3 = Pnt(-r0-R-l-r0*np.cos(np.pi/4), -r0*np.sin(np.pi/4), 0)\n",
    "        pnt4 = Pnt(-r0-R-l, -r0, 0)\n",
    "        pnt5 = Pnt(-r0-R, -r0, 0)\n",
    "        pnt6 = Pnt(-r0-R*np.cos(np.pi/4), -r0-R*np.sin(np.pi/4), 0)\n",
    "        pnt7 = Pnt(-r0, -r0-R, 0)\n",
    "\n",
    "        pnt8 = Pnt(-r0,-r0-R-l, 0)\n",
    "        pnt9 = Pnt(-r0*np.sin(np.pi/4),-r0-R-l-r0*np.cos(np.pi/4), 0)\n",
    "        pnt10 = Pnt(0,-r0-R-l-r0, 0)\n",
    "        origin = Pnt(0,0,0)\n",
    "\n",
    "        arc1 = ArcOfCircle(pnt2, pnt3, pnt4)\n",
    "        seg1 = Segment(pnt4, pnt5)\n",
    "        arc2 = ArcOfCircle(pnt5, pnt6, pnt7)\n",
    "        seg2 = Segment(pnt7, pnt8)\n",
    "        arc3 = ArcOfCircle(pnt8, pnt9, pnt10)\n",
    "        seg4 = Segment(pnt10, origin)\n",
    "        \n",
    "        wire = Wire([arc1,seg1,arc2,seg2,arc3,seg4])\n",
    "        mirrored_wire = wire.Mirror(Axis((0,0,0), X))\n",
    "        wire = Wire([wire,mirrored_wire])\n",
    "        f1 = Face(wire)\n",
    "        for edg in f1.edges:\n",
    "            edg.name = bn_in\n",
    "        f = Face(wire).Mirror(Axis((0,0,0), Y))\n",
    "        geo = OCCGeometry(face0-f-f1,dim=2)\n",
    "        mesh = ngsolve.Mesh(geo.GenerateMesh(maxh=msize))\n",
    "    return mesh"
   ]
  },
  {
   "cell_type": "code",
   "execution_count": 8,
   "id": "367b6bfa",
   "metadata": {},
   "outputs": [],
   "source": [
    "pnts = [Pnt(x, y, 0) for x, y in curves[0]]  # Z=0，如果是3D可改成相应值"
   ]
  },
  {
   "cell_type": "code",
   "execution_count": 9,
   "id": "a71e6c1e",
   "metadata": {},
   "outputs": [],
   "source": [
    "spline = SplineApproximation(pnts, tol=1e-4)\n",
    "f = Face(Wire([spline]))"
   ]
  },
  {
   "cell_type": "code",
   "execution_count": 10,
   "id": "d81070de",
   "metadata": {},
   "outputs": [],
   "source": [
    "from ngsolve.webgui import Draw"
   ]
  },
  {
   "cell_type": "code",
   "execution_count": 12,
   "id": "861f6016",
   "metadata": {},
   "outputs": [],
   "source": [
    "from ngsolve import Mesh"
   ]
  },
  {
   "cell_type": "code",
   "execution_count": 40,
   "id": "05c74c59",
   "metadata": {},
   "outputs": [],
   "source": [
    "geo = OCCGeometry(f)\n",
    "\n",
    "# 3. 生成二维网格\n",
    "mp = MeshingParameters(maxh=0.1,curvaturesafety=2)   # 控制最大单元大小\n",
    "mesh = Mesh(geo.GenerateMesh(mp))"
   ]
  },
  {
   "cell_type": "code",
   "execution_count": 46,
   "id": "2d7f3b99",
   "metadata": {},
   "outputs": [
    {
     "data": {
      "application/vnd.jupyter.widget-view+json": {
       "model_id": "",
       "version_major": 2,
       "version_minor": 0
      },
      "text/plain": [
       "WebGuiWidget(layout=Layout(height='50vh', width='100%'), value={'gui_settings': {}, 'ngsolve_version': '6.2.23…"
      ]
     },
     "metadata": {},
     "output_type": "display_data"
    },
    {
     "data": {
      "text/plain": [
       "BaseWebGuiScene"
      ]
     },
     "execution_count": 46,
     "metadata": {},
     "output_type": "execute_result"
    }
   ],
   "source": [
    "Draw(mesh)"
   ]
  },
  {
   "cell_type": "code",
   "execution_count": null,
   "id": "71aebf2b",
   "metadata": {},
   "outputs": [],
   "source": []
  },
  {
   "cell_type": "code",
   "execution_count": null,
   "id": "74a158cb",
   "metadata": {},
   "outputs": [],
   "source": []
  },
  {
   "cell_type": "code",
   "execution_count": null,
   "id": "ef1c7053",
   "metadata": {},
   "outputs": [],
   "source": [
    "def QuatInCirc(msize,r_circ,bndname='in',bn_out='bnd',hquat=None,hAI=None,rin=0.1):\n",
    "    '''\n",
    "        Quat in a Circle, centered at origin with radius r_circ\n",
    "    '''\n",
    "    if hquat is not None:\n",
    "        pass\n",
    "    else:\n",
    "        hquat = msize\n",
    "    if hAI is not None:\n",
    "        pass\n",
    "    else:\n",
    "        hAI = msize\n",
    "\n",
    "    geo = SplineGeometry()\n",
    "    ctr_point = [(1,0), (1,1), (0,1), (-1,1), (-1,0), \n",
    "                (-1,-1), (0,-1), (1,-1)]\n",
    "    ctr_point = [(r_circ*x, r_circ*y) for x,y in ctr_point]\n",
    "    p1,p2,p3,p4,p5,p6,p7,p8 = [ geo.AppendPoint(x,y) for x,y in ctr_point]\n",
    "    geo.Append ([\"spline3\", p1, p2, p3],bc=bn_out,\n",
    "                     leftdomain=1, rightdomain=0, maxh=hAI)\n",
    "    geo.Append ([\"spline3\", p3, p4, p5],bc=bn_out,\n",
    "                     leftdomain=1, rightdomain=0, maxh=hAI)\n",
    "    geo.Append ([\"spline3\", p5, p6, p7],bc=bn_out,\n",
    "                     leftdomain=1, rightdomain=0, maxh=hAI)\n",
    "    geo.Append ([\"spline3\", p7, p8, p1],bc=bn_out,\n",
    "                     leftdomain=1, rightdomain=0, maxh=hAI)\n",
    "\n",
    "    Rot = lambda x: (x[1],-x[0])\n",
    "    ## clockwise points\n",
    "    ctr_point = [(0.,  0.6), (rin, 0.6), (rin, 0.4), \n",
    "            (rin, rin), (0.4, rin), (0.6, rin)]\n",
    "    ctr_point += [Rot(v) for v in ctr_point]\n",
    "    ctr_point += [Rot(Rot(v)) for v in ctr_point]\n",
    "    plist = [geo.AppendPoint(*pnt) for pnt in ctr_point]\n",
    "    curves = [[[\"spline3\",plist[i],plist[i+1],plist[i+2]], bndname] for i in range(len(plist)-2) if i%2==0]\n",
    "    curves.append([[\"spline3\",plist[-2],plist[-1],plist[0]], bndname])\n",
    "    [geo.Append(c,bc=bc,leftdomain=1,rightdomain=0,maxh=hquat) for c,bc in curves]\n",
    "    \n",
    "    geo.SetMaterial(1, \"exter\")\n",
    "    geo.SetMaterial(2, \"inter\")\n",
    "    mesh = ngsolve.Mesh(geo.GenerateMesh(maxh=msize))\n",
    "    return mesh"
   ]
  }
 ],
 "metadata": {
  "kernelspec": {
   "display_name": "Python 3 (ipykernel)",
   "language": "python",
   "name": "python3"
  },
  "language_info": {
   "codemirror_mode": {
    "name": "ipython",
    "version": 3
   },
   "file_extension": ".py",
   "mimetype": "text/x-python",
   "name": "python",
   "nbconvert_exporter": "python",
   "pygments_lexer": "ipython3",
   "version": "3.10.6"
  }
 },
 "nbformat": 4,
 "nbformat_minor": 5
}
