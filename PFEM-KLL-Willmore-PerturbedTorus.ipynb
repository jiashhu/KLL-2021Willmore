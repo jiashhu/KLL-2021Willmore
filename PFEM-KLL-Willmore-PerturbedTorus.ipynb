{
 "cells": [
  {
   "cell_type": "code",
   "execution_count": 1,
   "id": "c49f8c52",
   "metadata": {},
   "outputs": [],
   "source": [
    "from ngsolve import *"
   ]
  },
  {
   "cell_type": "code",
   "execution_count": 2,
   "id": "aa23b70a",
   "metadata": {},
   "outputs": [],
   "source": [
    "# from netgen.csg import Pnt,SplineCurve2d,CSGeometry,Revolution,Sphere\n",
    "import numpy as np\n",
    "import netgen.meshing as ngm\n",
    "from netgen.csg import *\n",
    "from netgen.meshing import MeshingStep\n",
    "from ngsolve.comp import IntegrationRuleSpaceSurface"
   ]
  },
  {
   "cell_type": "code",
   "execution_count": 3,
   "id": "69ae2573",
   "metadata": {},
   "outputs": [],
   "source": [
    "from geometry import *"
   ]
  },
  {
   "cell_type": "code",
   "execution_count": 4,
   "id": "59415230",
   "metadata": {},
   "outputs": [],
   "source": [
    "from ngsolve.webgui import Draw"
   ]
  },
  {
   "cell_type": "code",
   "execution_count": 5,
   "id": "918dbe22",
   "metadata": {},
   "outputs": [],
   "source": [
    "from netgen.occ import SplineApproximation, Pnt, Axis, Face, Wire, Segment, Revolve, OCCGeometry, Z, X, Y\n",
    "#%% Construction of Initial Curved Mesh\n",
    "dim = 3\n",
    "order = 2\n",
    "msize = 0.15\n",
    "dt = Parameter(0)"
   ]
  },
  {
   "cell_type": "markdown",
   "id": "2df64338",
   "metadata": {},
   "source": [
    "Perturbed torus\n",
    "\\begin{equation*}\n",
    "    \\begin{pmatrix}\n",
    "(1+0.65\\cos\\varphi)\\cos\\theta\\\\ (1+0.65\\cos\\varphi)\\sin\\theta\\\\\n",
    "0.65\\sin \\varphi + 0.3 \\sin(5 \\theta)\n",
    "    \\end{pmatrix}\n",
    "    =     \\begin{pmatrix}\n",
    "(1+0.65\\cos\\varphi)\\cos\\theta\\\\ (1+0.65\\cos\\varphi)\\sin\\theta\\\\\n",
    "0.65\\sin \\varphi \n",
    "    \\end{pmatrix}\n",
    "    + \n",
    "        \\begin{pmatrix}\n",
    "0\\\\0\\\\\n",
    "0.3 \\sin(5 \\arctan(x,y))\n",
    "    \\end{pmatrix}\n",
    "\\end{equation*}"
   ]
  },
  {
   "cell_type": "code",
   "execution_count": 27,
   "id": "3f19674e",
   "metadata": {},
   "outputs": [],
   "source": [
    "from ngsolve import Mesh"
   ]
  },
  {
   "cell_type": "code",
   "execution_count": 28,
   "id": "b8383888",
   "metadata": {
    "scrolled": false
   },
   "outputs": [],
   "source": [
    "mesh = Mesh(\"data/order_{}_mesh.vol\".format(order))"
   ]
  },
  {
   "cell_type": "markdown",
   "id": "af71146b",
   "metadata": {},
   "source": [
    "## 有限元空间"
   ]
  },
  {
   "cell_type": "code",
   "execution_count": 44,
   "id": "f5a3d510",
   "metadata": {},
   "outputs": [],
   "source": [
    "fes = H1(mesh,order=order)\n",
    "fes1 = H1(mesh,order=1)\n",
    "fesV = VectorH1(mesh,order=order)\n",
    "\n",
    "Disp = GridFunction(fesV)"
   ]
  },
  {
   "cell_type": "code",
   "execution_count": 45,
   "id": "635ee5f9",
   "metadata": {},
   "outputs": [],
   "source": [
    "data = np.load(\"data/order_{}_deformation.npz\".format(order))\n",
    "Disp.vec.data = BaseVector(data[\"deform\"].flatten(\"F\"))"
   ]
  },
  {
   "cell_type": "code",
   "execution_count": 46,
   "id": "64203aed",
   "metadata": {},
   "outputs": [],
   "source": [
    "mesh.SetDeformation(Disp)"
   ]
  },
  {
   "cell_type": "code",
   "execution_count": 47,
   "id": "c7ddaf10",
   "metadata": {
    "scrolled": true
   },
   "outputs": [
    {
     "data": {
      "application/vnd.jupyter.widget-view+json": {
       "model_id": "35a7eb191391467eac1903e073b19643",
       "version_major": 2,
       "version_minor": 0
      },
      "text/plain": [
       "WebGuiWidget(layout=Layout(height='50vh', width='100%'), value={'gui_settings': {}, 'ngsolve_version': '6.2.23…"
      ]
     },
     "metadata": {},
     "output_type": "display_data"
    },
    {
     "data": {
      "text/plain": [
       "BaseWebGuiScene"
      ]
     },
     "execution_count": 47,
     "metadata": {},
     "output_type": "execute_result"
    }
   ],
   "source": [
    "Draw(x,mesh,\"x\")"
   ]
  },
  {
   "cell_type": "code",
   "execution_count": 48,
   "id": "81306f59",
   "metadata": {},
   "outputs": [],
   "source": [
    "vGf = GridFunction(fesV)"
   ]
  },
  {
   "cell_type": "markdown",
   "id": "3c9f36f8",
   "metadata": {},
   "source": [
    "## Time stepping parameter"
   ]
  },
  {
   "cell_type": "code",
   "execution_count": 49,
   "id": "308272b3",
   "metadata": {},
   "outputs": [],
   "source": [
    "# Mixed space: (H,    V,    z,     nu)\n",
    "fesMix =       fes * fes * fesV * fesV\n",
    "# Grid functions\n",
    "gfu     = GridFunction(fesMix)\n",
    "gfuold  = GridFunction(fesMix)\n",
    "# Previous time-step components\n",
    "Hold, Vold, zold, nuold = gfuold.components"
   ]
  },
  {
   "cell_type": "markdown",
   "id": "df079982",
   "metadata": {},
   "source": [
    "$$\n",
    "Q = -\\frac12 H^3 + |A|^2 H\n",
    "$$\n",
    "\n",
    "\\begin{align*}\n",
    "\\int_{\\Gamma[X]} \\partial^{\\bullet} H \\varphi^H &-\\int_{\\Gamma[X]} \\nabla_{\\Gamma[X]} V \\cdot \\nabla_{\\Gamma[X]} \\varphi^H=-\\int_{\\Gamma[X]}|A|^2 V \\varphi^H\\\\\n",
    "\\int_{\\Gamma[X]} V \\varphi^V & +\\int_{\\Gamma[X]} \\nabla_{\\Gamma[X]} H \\cdot \\nabla_{\\Gamma[X]} \\varphi^V=\\int_{\\Gamma[X]} Q \\varphi^V \\\\\n",
    "\\int_{\\Gamma[X]} \\partial^{\\bullet} \\nu \\cdot \\varphi^\\nu & -\\int_{\\Gamma[X]} \\nabla_{\\Gamma[X]} z \\cdot \\nabla_{\\Gamma[X]} \\varphi^\\nu=\\int_{\\Gamma[X]}\\left(H A-A^2\\right) z \\cdot \\varphi^\\nu \\\\\n",
    "& +\\int_{\\Gamma[X]}\\left(\\left|\\nabla_{\\Gamma[X]} H\\right|^2 \\nu+A^2 \\nabla_{\\Gamma[X]} H\\right) \\cdot \\varphi^\\nu \\\\\n",
    "& +2 \\int_{\\Gamma[X]}\\left(A \\nabla_{\\Gamma[X]} H\\right) \\cdot\\left(\\nabla_{\\Gamma[X]} \\varphi^\\nu \\nu\\right) \\\\\n",
    "& +\\int_{\\Gamma[X]} Q \\nabla_{\\Gamma[X]} \\cdot \\varphi^\\nu-\\int_{\\Gamma[X]} Q H \\nu \\cdot \\varphi^\\nu \\\\\n",
    "\\int_{\\Gamma[X]} z \\cdot \\varphi^z & +\\int_{\\Gamma[X]} \\nabla_{\\Gamma[X]}\\nu \\cdot \\nabla_{\\Gamma[X]} \\varphi^z=\\int_{\\Gamma[X]}|A|^2 \\nu \\cdot \\varphi^z\n",
    "\\end{align*}"
   ]
  },
  {
   "cell_type": "code",
   "execution_count": 50,
   "id": "d37c257e",
   "metadata": {},
   "outputs": [],
   "source": [
    "SD_opt = False\n",
    "H , V , z, nu = fesMix.TrialFunction()\n",
    "Ht, Vt, zt, nut = fesMix.TestFunction()\n",
    "\n",
    "## Weingarten Map A 通过上一层的法向量（有限元函数）来计算\n",
    "A = grad(nuold).Trace()\n",
    "A = 1/2*(A.trans+A)\n",
    "if SD_opt:\n",
    "    Q = 0\n",
    "else:\n",
    "    Q = -1/2*Hold**3+InnerProduct(A,A)*Hold\n",
    "\n",
    "# 归一化对于长时间演化会有帮助。如果没有归一化，可能会出现持续膨胀的情况\n",
    "nuold_uni = nuold/Norm(nuold)\n",
    "Lhs = BilinearForm(fesMix,symmetric=False)\n",
    "Rhs = LinearForm(fesMix)\n",
    "## ds may blow up\n",
    "# H的演化方程离散\n",
    "Lhs += (1/dt*H*Ht - InnerProduct(grad(V).Trace(),grad(Ht).Trace()))*ds \n",
    "Lhs += InnerProduct(A,A)*V*Ht*ds\n",
    "Rhs += 1/dt*Hold*Ht*ds \n",
    "# V的弱形式\n",
    "Lhs += (V*Vt + InnerProduct(grad(H).Trace(),grad(Vt).Trace()))*ds\n",
    "Rhs += Q*Vt*ds\n",
    "# n的演化方程离散\n",
    "Lhs += 1/dt*InnerProduct(nu,nut)*ds - InnerProduct(grad(z).Trace(),grad(nut).Trace())*ds\n",
    "Rhs += 1/dt*InnerProduct(nuold_uni,nut)*ds\n",
    "Lhs += (- Hold*InnerProduct(A*z,nut) + InnerProduct(A*(A*z),nut))*ds\n",
    "Rhs += (InnerProduct(grad(Hold).Trace(),grad(Hold).Trace())*InnerProduct(nuold_uni,nut)\\\n",
    "    + InnerProduct(A*(A*grad(Hold).Trace()),nut)\\\n",
    "    + 2*InnerProduct(grad(nut).Trace()*(A*grad(Hold).Trace()), nuold_uni))*ds\n",
    "Rhs += Q*Trace(grad(nut).Trace())*ds - Q*Hold*InnerProduct(nuold_uni,nut)*ds\n",
    "# z的弱形式\n",
    "Lhs += (InnerProduct(z,zt) + InnerProduct(grad(nu).Trace(),grad(zt).Trace()))*ds\n",
    "Rhs += (InnerProduct(A,A)*InnerProduct(nuold_uni,zt))*ds\n",
    "lhs = Lhs\n",
    "rhs = Rhs"
   ]
  },
  {
   "cell_type": "markdown",
   "id": "7687d56a",
   "metadata": {},
   "source": [
    "## 显示网格移动的设定"
   ]
  },
  {
   "cell_type": "code",
   "execution_count": 51,
   "id": "74e5d146",
   "metadata": {},
   "outputs": [],
   "source": [
    "SetVisualization(deformation=True)"
   ]
  },
  {
   "cell_type": "markdown",
   "id": "8c6a3680",
   "metadata": {},
   "source": [
    "## 时间演化"
   ]
  },
  {
   "cell_type": "code",
   "execution_count": 52,
   "id": "4954a199",
   "metadata": {},
   "outputs": [],
   "source": [
    "data = np.load(\"data/order_{}_deformation.npz\".format(order))\n",
    "Disp.vec.data = BaseVector(data[\"deform\"].flatten(\"F\"))"
   ]
  },
  {
   "cell_type": "code",
   "execution_count": 53,
   "id": "afe7c0a6",
   "metadata": {},
   "outputs": [],
   "source": [
    "mesh.SetDeformation(Disp)\n",
    "nuold.Set(-specialcf.normal(3),definedon=mesh.Boundaries(\".*\"))\n",
    "Hold.Set(Trace(-specialcf.Weingarten(3)),definedon=mesh.Boundaries(\".*\"))"
   ]
  },
  {
   "cell_type": "code",
   "execution_count": 54,
   "id": "9aedecd1",
   "metadata": {
    "scrolled": false
   },
   "outputs": [
    {
     "data": {
      "application/vnd.jupyter.widget-view+json": {
       "model_id": "8bcefbd447214a23862444f26b961ec0",
       "version_major": 2,
       "version_minor": 0
      },
      "text/plain": [
       "WebGuiWidget(layout=Layout(height='50vh', width='100%'), value={'gui_settings': {}, 'ngsolve_version': '6.2.23…"
      ]
     },
     "metadata": {},
     "output_type": "display_data"
    },
    {
     "data": {
      "text/plain": [
       "BaseWebGuiScene"
      ]
     },
     "execution_count": 54,
     "metadata": {},
     "output_type": "execute_result"
    }
   ],
   "source": [
    "mesh.SetDeformation(Disp)\n",
    "Draw(Norm(Hold), mesh, 'Curvature')"
   ]
  },
  {
   "cell_type": "code",
   "execution_count": 55,
   "id": "e750f1bb",
   "metadata": {},
   "outputs": [],
   "source": [
    "t_old = 0"
   ]
  },
  {
   "cell_type": "code",
   "execution_count": 56,
   "id": "be1cc41d",
   "metadata": {},
   "outputs": [],
   "source": [
    "tau0 = 0.00001\n",
    "dt.Set(tau0)"
   ]
  },
  {
   "cell_type": "code",
   "execution_count": 57,
   "id": "2fc6bc1d",
   "metadata": {},
   "outputs": [],
   "source": [
    "Hold_one_order = GridFunction(fes1)"
   ]
  },
  {
   "cell_type": "code",
   "execution_count": 58,
   "id": "5bbbb01b",
   "metadata": {
    "scrolled": false
   },
   "outputs": [
    {
     "data": {
      "application/vnd.jupyter.widget-view+json": {
       "model_id": "13dce9dafbcb4dea88390507046b1d31",
       "version_major": 2,
       "version_minor": 0
      },
      "text/plain": [
       "WebGuiWidget(layout=Layout(height='50vh', width='100%'), value={'gui_settings': {}, 'ngsolve_version': '6.2.23…"
      ]
     },
     "metadata": {},
     "output_type": "display_data"
    },
    {
     "name": "stdout",
     "output_type": "stream",
     "text": [
      "1e-05\n",
      "1e-05\n",
      "1e-05\n",
      "1e-05\n",
      "1e-05\n",
      "1e-05\n",
      "1e-05\n",
      "1e-05\n",
      "1e-05\n",
      "1e-05\n",
      "0.001\n",
      "0.001\n",
      "0.001\n",
      "0.001\n",
      "0.001\n",
      "0.001\n",
      "0.001\n",
      "0.001\n",
      "0.001\n",
      "0.001\n",
      "0.001\n",
      "0.001\n",
      "0.001\n",
      "0.001\n",
      "0.001\n",
      "0.001\n",
      "0.001\n",
      "0.001\n",
      "0.001\n",
      "0.001\n",
      "0.001\n",
      "0.001\n",
      "0.001\n",
      "0.001\n",
      "0.001\n",
      "0.001\n",
      "0.001\n",
      "0.001\n",
      "0.001\n",
      "0.001\n",
      "0.001\n",
      "0.001\n",
      "0.001\n",
      "0.001\n",
      "0.001\n",
      "0.001\n",
      "0.001\n",
      "0.001\n",
      "0.001\n",
      "0.001\n",
      "0.001\n",
      "0.001\n",
      "0.001\n",
      "0.001\n",
      "0.001\n",
      "0.001\n",
      "0.001\n",
      "0.001\n",
      "0.001\n",
      "0.001\n",
      "0.001\n",
      "0.001\n",
      "0.001\n",
      "0.001\n",
      "0.001\n",
      "0.001\n",
      "0.001\n",
      "0.001\n",
      "0.001\n",
      "0.001\n",
      "0.001\n",
      "0.001\n",
      "0.001\n",
      "0.001\n",
      "0.001\n",
      "0.001\n",
      "0.001\n",
      "0.001\n",
      "0.001\n",
      "0.001\n",
      "0.001\n",
      "0.001\n",
      "0.001\n",
      "0.001\n",
      "0.001\n",
      "0.001\n",
      "0.001\n",
      "0.001\n",
      "0.001\n",
      "0.001\n",
      "0.001\n",
      "0.001\n",
      "0.001\n",
      "0.001\n",
      "0.001\n",
      "0.001\n",
      "0.001\n",
      "0.001\n",
      "0.001\n",
      "0.001\n",
      "0.001\n",
      "0.001\n",
      "0.001\n",
      "0.001\n",
      "0.001\n",
      "0.001\n",
      "0.001\n",
      "0.001\n",
      "0.001\n",
      "0.001\n",
      "0.001\n",
      "0.001\n",
      "0.001\n",
      "0.001\n",
      "0.001\n",
      "0.001\n",
      "0.001\n",
      "0.001\n",
      "0.001\n",
      "0.001\n",
      "0.001\n",
      "0.001\n",
      "0.001\n",
      "0.001\n",
      "0.001\n",
      "0.001\n",
      "0.001\n",
      "0.001\n",
      "0.001\n",
      "0.001\n",
      "0.001\n",
      "0.001\n",
      "0.001\n",
      "0.001\n",
      "0.001\n",
      "0.001\n",
      "0.001\n",
      "0.001\n",
      "0.001\n",
      "0.001\n",
      "0.001\n",
      "0.001\n",
      "0.001\n",
      "0.001\n",
      "0.001\n",
      "0.001\n",
      "0.001\n",
      "0.001\n",
      "0.001\n",
      "0.001\n",
      "0.001\n",
      "0.001\n",
      "0.001\n",
      "0.001\n",
      "0.001\n",
      "0.001\n",
      "0.001\n",
      "0.001\n",
      "0.001\n",
      "0.001\n",
      "0.001\n",
      "0.001\n",
      "0.001\n",
      "0.001\n",
      "0.001\n",
      "0.001\n",
      "0.001\n",
      "0.001\n",
      "0.001\n",
      "0.001\n",
      "0.001\n",
      "0.001\n",
      "0.001\n",
      "0.001\n",
      "0.001\n",
      "0.001\n",
      "0.001\n",
      "0.001\n",
      "0.001\n",
      "0.001\n",
      "0.001\n",
      "0.001\n",
      "0.001\n",
      "0.001\n",
      "0.001\n",
      "0.001\n",
      "0.001\n",
      "0.001\n",
      "0.001\n",
      "0.001\n",
      "0.001\n",
      "0.001\n",
      "0.001\n",
      "0.001\n",
      "0.001\n",
      "0.001\n",
      "0.001\n",
      "0.001\n",
      "0.001\n",
      "0.001\n",
      "0.001\n",
      "0.001\n",
      "0.001\n",
      "0.001\n",
      "0.001\n",
      "0.001\n",
      "0.001\n",
      "0.001\n",
      "0.001\n",
      "0.001\n",
      "0.001\n",
      "0.001\n",
      "0.001\n",
      "0.001\n",
      "0.001\n",
      "0.001\n",
      "0.001\n",
      "0.001\n",
      "0.001\n",
      "0.001\n",
      "0.001\n",
      "0.001\n",
      "0.001\n",
      "0.001\n",
      "0.001\n",
      "0.001\n",
      "0.001\n",
      "0.001\n",
      "0.001\n",
      "0.001\n",
      "0.001\n",
      "0.001\n",
      "0.001\n",
      "0.001\n",
      "0.001\n",
      "0.001\n",
      "0.001\n",
      "0.001\n",
      "0.001\n",
      "0.001\n",
      "0.001\n",
      "0.001\n",
      "0.001\n",
      "0.001\n",
      "0.001\n",
      "0.001\n",
      "0.001\n",
      "0.001\n",
      "0.001\n",
      "0.001\n",
      "0.001\n",
      "0.001\n",
      "0.001\n",
      "0.001\n",
      "0.001\n",
      "0.001\n",
      "0.001\n",
      "0.001\n",
      "0.001\n",
      "0.001\n",
      "0.001\n",
      "0.001\n",
      "0.001\n",
      "0.001\n",
      "0.001\n",
      "0.001\n",
      "0.001\n",
      "0.001\n",
      "0.001\n",
      "0.001\n",
      "0.001\n",
      "0.001\n",
      "0.001\n",
      "0.001\n",
      "0.001\n",
      "0.001\n",
      "0.001\n",
      "0.001\n",
      "0.001\n",
      "0.001\n",
      "0.001\n",
      "0.001\n"
     ]
    },
    {
     "ename": "KeyboardInterrupt",
     "evalue": "",
     "output_type": "error",
     "traceback": [
      "\u001b[0;31m---------------------------------------------------------------------------\u001b[0m",
      "\u001b[0;31mKeyboardInterrupt\u001b[0m                         Traceback (most recent call last)",
      "Cell \u001b[0;32mIn[58], line 16\u001b[0m\n\u001b[1;32m     14\u001b[0m lhs\u001b[38;5;241m.\u001b[39mAssemble()\n\u001b[1;32m     15\u001b[0m rhs\u001b[38;5;241m.\u001b[39mAssemble()\n\u001b[0;32m---> 16\u001b[0m gfu\u001b[38;5;241m.\u001b[39mvec\u001b[38;5;241m.\u001b[39mdata \u001b[38;5;241m=\u001b[39m \u001b[43mlhs\u001b[49m\u001b[38;5;241;43m.\u001b[39;49m\u001b[43mmat\u001b[49m\u001b[38;5;241;43m.\u001b[39;49m\u001b[43mInverse\u001b[49m\u001b[43m(\u001b[49m\u001b[43minverse\u001b[49m\u001b[38;5;241;43m=\u001b[39;49m\u001b[38;5;124;43m\"\u001b[39;49m\u001b[38;5;124;43mumfpack\u001b[39;49m\u001b[38;5;124;43m\"\u001b[39;49m\u001b[43m)\u001b[49m\u001b[38;5;241m*\u001b[39mrhs\u001b[38;5;241m.\u001b[39mvec\n\u001b[1;32m     17\u001b[0m vGf\u001b[38;5;241m.\u001b[39mInterpolate(gfu\u001b[38;5;241m.\u001b[39mcomponents[\u001b[38;5;241m1\u001b[39m]\u001b[38;5;241m*\u001b[39mgfu\u001b[38;5;241m.\u001b[39mcomponents[\u001b[38;5;241m-\u001b[39m\u001b[38;5;241m1\u001b[39m],definedon\u001b[38;5;241m=\u001b[39mmesh\u001b[38;5;241m.\u001b[39mBoundaries(\u001b[38;5;124m\"\u001b[39m\u001b[38;5;124m.*\u001b[39m\u001b[38;5;124m\"\u001b[39m))\n\u001b[1;32m     19\u001b[0m gfuold\u001b[38;5;241m.\u001b[39mvec\u001b[38;5;241m.\u001b[39mdata \u001b[38;5;241m=\u001b[39m BaseVector(gfu\u001b[38;5;241m.\u001b[39mvec\u001b[38;5;241m.\u001b[39mFV()\u001b[38;5;241m.\u001b[39mNumPy())\n",
      "\u001b[0;31mKeyboardInterrupt\u001b[0m: "
     ]
    }
   ],
   "source": [
    "sceneu = Draw(Norm(Hold), mesh, 'disp')\n",
    "while t_old<1:\n",
    "    Hold_one_order.Interpolate(Hold,definedon=mesh.Boundaries(\".*\"))\n",
    "    H_max = max(np.abs(Hold_one_order.vec.FV().NumPy()))\n",
    "    if H_max>6:\n",
    "        tau00 = tau0\n",
    "    elif H_max>2:\n",
    "        tau00 = 1e-3\n",
    "    else:\n",
    "        tau00 = 2e-3\n",
    "    print(tau00)\n",
    "    dt.Set(tau00)\n",
    "    mesh.SetDeformation(Disp)\n",
    "    lhs.Assemble()\n",
    "    rhs.Assemble()\n",
    "    gfu.vec.data = lhs.mat.Inverse(inverse=\"umfpack\")*rhs.vec\n",
    "    vGf.Interpolate(gfu.components[1]*gfu.components[-1],definedon=mesh.Boundaries(\".*\"))\n",
    "        \n",
    "    gfuold.vec.data = BaseVector(gfu.vec.FV().NumPy())\n",
    "    Disp.vec.data = BaseVector(Disp.vec.FV().NumPy() + tau00*vGf.vec.FV().NumPy())\n",
    "    sceneu.Redraw()\n",
    "    t_old += tau00"
   ]
  },
  {
   "cell_type": "code",
   "execution_count": null,
   "id": "a01332ec",
   "metadata": {},
   "outputs": [],
   "source": []
  }
 ],
 "metadata": {
  "kernelspec": {
   "display_name": "Python 3 (ipykernel)",
   "language": "python",
   "name": "python3"
  },
  "language_info": {
   "codemirror_mode": {
    "name": "ipython",
    "version": 3
   },
   "file_extension": ".py",
   "mimetype": "text/x-python",
   "name": "python",
   "nbconvert_exporter": "python",
   "pygments_lexer": "ipython3",
   "version": "3.10.6"
  }
 },
 "nbformat": 4,
 "nbformat_minor": 5
}
