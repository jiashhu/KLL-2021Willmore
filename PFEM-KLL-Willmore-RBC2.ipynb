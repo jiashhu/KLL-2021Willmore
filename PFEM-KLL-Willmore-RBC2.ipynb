{
 "cells": [
  {
   "cell_type": "code",
   "execution_count": 1,
   "id": "9bed02ce",
   "metadata": {},
   "outputs": [],
   "source": [
    "from ngsolve import *"
   ]
  },
  {
   "cell_type": "code",
   "execution_count": 2,
   "id": "62f664b0",
   "metadata": {},
   "outputs": [],
   "source": [
    "import sys\n",
    "sys.path.append(\"./FEMGeoPackage\")"
   ]
  },
  {
   "cell_type": "code",
   "execution_count": null,
   "id": "962ac791",
   "metadata": {},
   "outputs": [],
   "source": [
    "from geometry import *\n",
    "import numpy as np"
   ]
  },
  {
   "cell_type": "code",
   "execution_count": 4,
   "id": "356969cb",
   "metadata": {},
   "outputs": [],
   "source": [
    "from ngsolve.webgui import *"
   ]
  },
  {
   "cell_type": "code",
   "execution_count": null,
   "id": "02e98f18",
   "metadata": {},
   "outputs": [],
   "source": [
    "from esfem import WillmoreKLL"
   ]
  },
  {
   "cell_type": "code",
   "execution_count": 6,
   "id": "d9522290",
   "metadata": {},
   "outputs": [],
   "source": [
    "maxh = 0.2\n",
    "CurveOrder = 1\n",
    "ESFEMorder = 2\n",
    "h_opt = 'mean'\n",
    "a = 0.7\n",
    "NS = 9"
   ]
  },
  {
   "cell_type": "code",
   "execution_count": 7,
   "id": "f2bf1abe",
   "metadata": {},
   "outputs": [],
   "source": [
    "ngsglobals.msg_level = 0"
   ]
  },
  {
   "cell_type": "code",
   "execution_count": 9,
   "id": "666184e8",
   "metadata": {},
   "outputs": [
    {
     "name": "stdout",
     "output_type": "stream",
     "text": [
      "tstart (must be vertically): (-1.91114e-07, 0.553525)\n",
      "tend (must be vertically): (1.91114e-07, -0.553525)\n",
      "Mesh with ne 0, nface 1678, nv 841\n",
      "fes order is 2, with ndof is 3358\n"
     ]
    }
   ],
   "source": [
    "# Create the 2d Dumbbell Geometric Object and generate mesh\n",
    "profile_curve = RBCSpline(a=a,b=1,c=2,N_Spline=NS,T_min=-np.pi/2,\n",
    "                T_max=np.pi/2,eps=1e-7,is_close=False)\n",
    "RBC_Rot_Obj = Param2dRot(profile_curve, axis_opt='x', c_tag=False)\n",
    "RBC_Rot_Obj.Generate_Mesh(maxh=maxh,order=CurveOrder)\n",
    "mesh = RBC_Rot_Obj.mesh\n",
    "DB_BGN_Obj = WillmoreKLL(mesh,T=1.5,dt=1e-5,order=ESFEMorder)"
   ]
  },
  {
   "cell_type": "code",
   "execution_count": 10,
   "id": "626bb89d",
   "metadata": {},
   "outputs": [],
   "source": [
    "DB_BGN_Obj.IniByFEM()"
   ]
  },
  {
   "cell_type": "code",
   "execution_count": 11,
   "id": "f9296163",
   "metadata": {},
   "outputs": [],
   "source": [
    "DB_BGN_Obj.WeakWillmore()"
   ]
  },
  {
   "cell_type": "markdown",
   "id": "175dc3fb",
   "metadata": {},
   "source": [
    "万分注意：在webgui中，Draw不需要设置Deformation=True选项"
   ]
  },
  {
   "cell_type": "code",
   "execution_count": 12,
   "id": "d3d78f30",
   "metadata": {
    "scrolled": false
   },
   "outputs": [
    {
     "data": {
      "application/vnd.jupyter.widget-view+json": {
       "model_id": "8be57f1bf8924bb5aa8105d1b04a4df2",
       "version_major": 2,
       "version_minor": 0
      },
      "text/plain": [
       "WebGuiWidget(layout=Layout(height='50vh', width='100%'), value={'gui_settings': {}, 'ngsolve_version': '6.2.23…"
      ]
     },
     "metadata": {},
     "output_type": "display_data"
    },
    {
     "name": "stdout",
     "output_type": "stream",
     "text": [
      "2025-08-30 18:33:14 +0800 Asia/Shanghai :Using Get_Proper_dt, Now coef is 1, t is 0, min h is 0.13414777062901992, dt is 4.062e-02, scale is 1\n"
     ]
    },
    {
     "name": "stderr",
     "output_type": "stream",
     "text": [
      "Time stepping: 124it [03:14,  1.57s/it]                                                                                                   \n"
     ]
    }
   ],
   "source": [
    "sceneu = Draw(Norm(DB_BGN_Obj.Hold), mesh, 'disp')\n",
    "t_old = 0\n",
    "DB_BGN_Obj.T = 5\n",
    "dt = DB_BGN_Obj.Get_Proper_dt(coef=1,h_opt=h_opt)\n",
    "DB_BGN_Obj.dt.Set(dt)\n",
    "DB_BGN_Obj.Solving(sceneu=sceneu)"
   ]
  },
  {
   "cell_type": "markdown",
   "id": "99006aae",
   "metadata": {},
   "source": [
    "如果需要修改终止时间，修改步长，也可以继续计算"
   ]
  }
 ],
 "metadata": {
  "kernelspec": {
   "display_name": "Python 3 (ipykernel)",
   "language": "python",
   "name": "python3"
  },
  "language_info": {
   "codemirror_mode": {
    "name": "ipython",
    "version": 3
   },
   "file_extension": ".py",
   "mimetype": "text/x-python",
   "name": "python",
   "nbconvert_exporter": "python",
   "pygments_lexer": "ipython3",
   "version": "3.10.6"
  }
 },
 "nbformat": 4,
 "nbformat_minor": 5
}
